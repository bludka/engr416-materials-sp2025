{
 "cells": [
  {
   "cell_type": "code",
   "execution_count": null,
   "metadata": {},
   "outputs": [
    {
     "data": {
      "application/vnd.jupyter.widget-view+json": {
       "model_id": "214add9c650b4ad784d189afee44a318",
       "version_major": 2,
       "version_minor": 0
      },
      "text/plain": [
       "interactive(children=(FloatSlider(value=0.0, description='Mean (μ)', max=5.0, min=-5.0), FloatSlider(value=1.0…"
      ]
     },
     "metadata": {},
     "output_type": "display_data"
    }
   ],
   "source": [
    "import numpy as np\n",
    "import matplotlib.pyplot as plt\n",
    "from ipywidgets import interact, FloatSlider\n",
    "\n",
    "# Define the Gaussian function\n",
    "def gaussian(x, mu, sigma):\n",
    "    return (1 / (sigma * np.sqrt(2 * np.pi))) * np.exp(-((x - mu) ** 2) / (2 * sigma ** 2))\n",
    "\n",
    "# Fixed x-axis range\n",
    "x = np.linspace(-10, 10, 400)\n",
    "\n",
    "# Function to update the plot\n",
    "def update(mu, sigma):\n",
    "    if sigma <= 0:\n",
    "        return  # Prevent division by zero\n",
    "    y = gaussian(x, mu, sigma)\n",
    "\n",
    "    plt.figure(figsize=(8, 5))\n",
    "    plt.plot(x, y, label=f\"μ={mu}, σ={sigma}\")\n",
    "    plt.axvline(mu, color='r', linestyle='--', label=\"Mean (μ)\")  # Vertical line for mean\n",
    "    plt.xlabel(\"x\")\n",
    "    plt.ylabel(\"g(x)\")\n",
    "    plt.title(\"Gaussian Distribution\")\n",
    "    plt.legend()\n",
    "    plt.grid(True)\n",
    "    \n",
    "    # Keep axes fixed\n",
    "    plt.xlim(-10, 10)\n",
    "    plt.ylim(0, 0.5)  # Adjust this if necessary based on typical function values\n",
    "    \n",
    "    plt.show()\n",
    "\n",
    "# Interactive sliders for mu and sigma\n",
    "interact(update, \n",
    "         mu=FloatSlider(min=-5, max=5, step=0.1, value=0, description=\"Mean (μ)\"), \n",
    "         sigma=FloatSlider(min=0.1, max=5, step=0.1, value=1, description=\"Std Dev (σ)\"));\n"
   ]
  },
  {
   "cell_type": "code",
   "execution_count": 4,
   "metadata": {},
   "outputs": [
    {
     "data": {
      "application/vnd.jupyter.widget-view+json": {
       "model_id": "dff782d2c48c444b90d5c9f2460a8819",
       "version_major": 2,
       "version_minor": 0
      },
      "text/plain": [
       "interactive(children=(FloatSlider(value=5.0, description='Mass (M)', max=10.0, min=1.0, step=0.5), FloatSlider…"
      ]
     },
     "metadata": {},
     "output_type": "display_data"
    }
   ],
   "source": [
    "import numpy as np\n",
    "import matplotlib.pyplot as plt\n",
    "from ipywidgets import interact, FloatSlider\n",
    "\n",
    "# Define the function for concentration distribution\n",
    "def concentration(x, M, D, t, x_0):\n",
    "    if t <= 0 or D <= 0:\n",
    "        return np.zeros_like(x)  # Prevent division by zero or negative values\n",
    "    return (M / np.sqrt(4 * np.pi * D * t)) * np.exp(-((x - x_0) ** 2) / (4 * D * t))\n",
    "\n",
    "# Fixed x-axis range\n",
    "x = np.linspace(-10, 10, 400)\n",
    "\n",
    "# Function to update the plot\n",
    "def update(M, D, t, x_0):\n",
    "    c = concentration(x, M, D, t, x_0)\n",
    "\n",
    "    plt.figure(figsize=(8, 5))\n",
    "    plt.plot(x, c, label=f\"M={M}, D={D}, t={t}, x_0={x_0}\")\n",
    "    plt.axvline(x_0, color='r', linestyle='--', label=f\"Source at x={x_0}\")  # Mark source location\n",
    "    plt.xlabel(\"x (distance)\")\n",
    "    plt.ylabel(\"c(x, t) (concentration)\")\n",
    "    plt.title(\"Diffusion with Initial Displacement\")\n",
    "    plt.legend()\n",
    "    plt.grid(True)\n",
    "    \n",
    "    # Keep axes fixed\n",
    "    plt.xlim(-10, 10)\n",
    "    plt.ylim(0, 1)  # Adjust based on reasonable concentration values\n",
    "    \n",
    "    plt.show()\n",
    "\n",
    "# Interactive sliders\n",
    "interact(update, \n",
    "         M=FloatSlider(min=1, max=10, step=0.5, value=5, description=\"Mass (M)\"), \n",
    "         D=FloatSlider(min=0.1, max=5, step=0.1, value=1, description=\"Diffusivity (D)\"), \n",
    "         t=FloatSlider(min=0.1, max=10, step=0.1, value=1, description=\"Time (t)\"),\n",
    "         x_0=FloatSlider(min=-5, max=5, step=0.5, value=0, description=\"Source Position (x_0)\"));\n"
   ]
  }
 ],
 "metadata": {
  "kernelspec": {
   "display_name": "engr225",
   "language": "python",
   "name": "python3"
  },
  "language_info": {
   "codemirror_mode": {
    "name": "ipython",
    "version": 3
   },
   "file_extension": ".py",
   "mimetype": "text/x-python",
   "name": "python",
   "nbconvert_exporter": "python",
   "pygments_lexer": "ipython3",
   "version": "3.11.7"
  }
 },
 "nbformat": 4,
 "nbformat_minor": 2
}
