{
  "cells": [
    {
      "cell_type": "markdown",
      "metadata": {
        "id": "4VJhrvvAzoSH"
      },
      "source": [
        "# Welcome to *JupyterHub*!\n",
        "This is a place where you can run computer programs in the cloud. In this case you are working with code in a *Jupyter Python Notebook*."
      ]
    },
    {
      "cell_type": "markdown",
      "metadata": {},
      "source": [
        "## Text cells\n",
        "In a notebook, each rectangle containing text or code is called a *cell*.\n",
        "\n",
        "Text cells (like this one) can be edited by double-clicking on them. They're written in a simple format called [Markdown](http://daringfireball.net/projects/markdown/syntax) to add formatting and section headings.  You don't need to learn Markdown, but you might want to.\n",
        "\n",
        "After you edit a text cell, click the \"run cell\" button at the top that looks like ▶| or hold down `shift` + `return` to confirm any changes. (Try not to delete the instructions of the lab.)"
      ]
    },
    {
      "cell_type": "markdown",
      "metadata": {},
      "source": [
        "This paragraph is in its own text cell.  Try editing it so that this sentence is the last sentence in the paragraph, and then click the \"run cell\" ▶| button or hold down `shift` + `return`.  This sentence, for example, should be deleted.  So should this one."
      ]
    },
    {
      "cell_type": "markdown",
      "metadata": {},
      "source": [
        "## Code cells\n",
        "Other cells contain code in the Python 3 language. Running a code cell will execute all of the code it contains.\n",
        "\n",
        "To run the code in a code cell, first click on that cell to activate it.  It'll be highlighted with a little green or blue rectangle.  Next, either press ▶| or hold down `shift` + `return`.\n",
        "\n",
        "Try running this cell:"
      ]
    },
    {
      "cell_type": "code",
      "execution_count": null,
      "metadata": {},
      "outputs": [],
      "source": [
        "print(\"Hello, World!\")"
      ]
    },
    {
      "cell_type": "markdown",
      "metadata": {},
      "source": [
        "And this one:"
      ]
    },
    {
      "cell_type": "code",
      "execution_count": null,
      "metadata": {},
      "outputs": [],
      "source": [
        "print(\"\\N{WAVING HAND SIGN}, \\N{EARTH GLOBE ASIA-AUSTRALIA}!\")"
      ]
    },
    {
      "cell_type": "markdown",
      "metadata": {
        "id": "DOaDL10opWoC"
      },
      "source": [
        "# Kinetics of Oxygen Transfer\n",
        "\n",
        "**Purpose:** Observe the oxygen mass transfer rate into water under different mixing conditions and evaluate the reaction order.\n",
        "\n",
        "**Task:** During todays \"lab\" you will only be carrying out the *data analysis* portion of this experiment\n",
        "\n",
        "IF you were to carry out this experiment (which we are not doing today), this is the equipment you would need\n",
        "\n",
        "**Equipment:**\n",
        "\n",
        "*   1 - 500 mL beaker with Argon stripped DI water\n",
        "*   1 - ring-stand and claps  \n",
        "*   1 - DO meters\n",
        "*   1 - Magnetic stir plate and stir bar\n",
        "*   1 - Watch or stop watch\n",
        "\n",
        "IF you were to carry out this experiment (which we are not doing today), these are the safety requirements you would need to follow.\n",
        "\n",
        "**Safety:** For safety you need to pull your hair back, wear safety goggles, lab coat, closed toe shoes, long pants and long sleeves. You should be careful to avoid tippy ring stand arrangements.\n",
        "\n",
        "IF you were to carry out this experiment (which we are not doing today), this is the procedure that you would follow.\n",
        "\n",
        "**Procedure:**\n",
        "\n",
        "1. Fill a 5000 mL beaker with the Argon stripped DI water (deoxygenated water).\n",
        "2. Place the DO probe into the deoxygenated water. Turn the magnetic stir plate to a low mixing rate,\n",
        "take note of mixing rate.\n",
        "3. After the meter settles onto a constant reading, record the DO concentration and begin timing.\n",
        "Also, record the temperature.  \n",
        "4. Record the DO concentration on the data log sheet every minute for 30 minutes.  \n",
        "5. Repeat this procedure for a higher mixing rate, take note of mixing rate.  "
      ]
    },
    {
      "cell_type": "markdown",
      "metadata": {
        "id": "MFptjwLgyzO_"
      },
      "source": [
        "# Experiment Video\n",
        "Run the code below. It should make it so that you can watch a YouTube video within this notebook. I suggest clicking the full screen button to be able to see it better."
      ]
    },
    {
      "cell_type": "code",
      "execution_count": null,
      "metadata": {
        "colab": {
          "base_uri": "https://localhost:8080/",
          "height": 322
        },
        "id": "qUITHqpuwZXi",
        "outputId": "da45ff89-a1ad-407f-ba11-c4a362fee33f"
      },
      "outputs": [],
      "source": [
        "from IPython.display import YouTubeVideo\n",
        "YouTubeVideo('u6V5p_kHeOE')"
      ]
    },
    {
      "cell_type": "markdown",
      "metadata": {
        "id": "9mUH5LLo0g5i"
      },
      "source": [
        "# Video of Experiment\n",
        "Watch the video above. In the video, is the stir bar moving faster in the left or right beaker?\n",
        "\n",
        "*Write your answer here by double clicking on this box*"
      ]
    },
    {
      "cell_type": "markdown",
      "metadata": {
        "id": "EMBtSO8z45nb"
      },
      "source": [
        "The dissolved oxygen (DO) concentration is measured in mg/L. In the video, what is the intial (time on stopwatch = 0) disolved oxygen concentration in each beaker? (Hint, check out the larger numbers on the gray YSI sensor screens.)\n",
        "\n",
        "*Write your answer here by double clicking on this box*"
      ]
    },
    {
      "cell_type": "markdown",
      "metadata": {
        "id": "xbFyTWbWf0e5"
      },
      "source": [
        "(Note: The other smaller number on the sensor screen is temperature in degrees Celcius.)"
      ]
    },
    {
      "cell_type": "markdown",
      "metadata": {
        "id": "Jril6Z476M4-"
      },
      "source": [
        "In the video, what is the disolved oxygen (DO) concentration in each beaker after about 30 minutes?\n",
        "\n",
        "*Write your answer here by double clicking on this box*"
      ]
    },
    {
      "cell_type": "markdown",
      "metadata": {
        "id": "iLPLlUpXYUfJ"
      },
      "source": [
        "\n",
        "Oxygen was mostly stripped from the DI water before the start of this experiment. Then the water gradually starts to re-gain oxygen, as the gaseous oxygen from the atmosphere enters the liquid water. Would you consider this process to be a \"chemical reaction\"?\n",
        "\n",
        "*Write your answer here by double clicking on this box*"
      ]
    },
    {
      "cell_type": "markdown",
      "metadata": {
        "id": "wX7Wrm_v9mdF"
      },
      "source": [
        "# Python Packages\n",
        "Now let's do some data anlysis! To get ourselves set up in Python lets load all the necessary packages. Go ahead and run the code below.\n",
        "\n",
        "**Note!** A hashtag (#) signifies a comment in the code"
      ]
    },
    {
      "cell_type": "code",
      "execution_count": 3,
      "metadata": {
        "id": "805kMByL97p4"
      },
      "outputs": [],
      "source": [
        "# Load Python Packages <-- this is a comment\n",
        "import numpy as np\n",
        "import pandas as pd\n",
        "import matplotlib.pyplot as plt\n",
        "from scipy import stats"
      ]
    },
    {
      "cell_type": "markdown",
      "metadata": {
        "id": "eptLqvlt-r6Y"
      },
      "source": [
        "# Download the Data\n",
        "\n",
        "Click the file icon in the left hand corner of your screen. You will see a file called 'Data_Kinetics_of_Ox_Transfer.csv'. Click on it to preview the data.\n",
        "\n",
        "The first column is time, $t$, in minutes.\n",
        "\n",
        "The second column is $DO_t$, disolved oxygen concentration in mg/L for the *low mixing rate*.\n",
        "\n",
        "The third column is $DO_t$ in mg/L for the *high mixing rate*. The subscript $t$ is there because it depends on time.\n",
        "\n",
        "Take a look at the data and note the numbers do not match the video because this is from a different trial.\n",
        "\n",
        "Import this data into your work space by running the code below."
      ]
    },
    {
      "cell_type": "code",
      "execution_count": 11,
      "metadata": {
        "id": "iAO80FrM_9QK"
      },
      "outputs": [],
      "source": [
        "dm = pd.read_csv('Data_Kinetics_of_Ox_Transfer.csv', header=None).to_numpy()"
      ]
    },
    {
      "cell_type": "code",
      "execution_count": null,
      "metadata": {
        "id": "SJOeteYbFj3P"
      },
      "outputs": [],
      "source": [
        "#Let's take a look at our data matrix\n",
        "print(dm)"
      ]
    },
    {
      "cell_type": "markdown",
      "metadata": {
        "id": "tqyyUatUViFd"
      },
      "source": [
        "Now let's store each column in variable names that will be easier to remember."
      ]
    },
    {
      "cell_type": "code",
      "execution_count": null,
      "metadata": {
        "id": "6GttdQ9cVoLd"
      },
      "outputs": [],
      "source": [
        "#Time in minutes\n",
        "time = dm[:,0] # store my variable\n",
        "print(\"time = \" + str(time)) #print the output to the screen\n",
        "print() # print a blank line to see output easier\n",
        "#Disolved Oxygen Concentration for the low mixing rate\n",
        "DO_low = dm[:,1]\n",
        "print(\"DO_low = \" + str(DO_low))\n",
        "print() # print a blank line to see output easier\n",
        "#Disolved Oxygen Concentration for the high mixing rate\n",
        "DO_high = dm[:,2]\n",
        "print(\"DO_high = \" + str(DO_high))"
      ]
    },
    {
      "cell_type": "markdown",
      "metadata": {
        "id": "NERVUQDxaowA"
      },
      "source": [
        "Now let's plot dissolved oxygen concentration vs. time, ($DO_t$ vs. $t$), for both the low and high mixing rate"
      ]
    },
    {
      "cell_type": "code",
      "execution_count": null,
      "metadata": {
        "id": "2olHP6j_axiC"
      },
      "outputs": [],
      "source": [
        "plt.figure(figsize=(6,4))\n",
        "plt.plot(time,DO_low,'*',label='Low Mixing Rate')\n",
        "plt.plot(time,DO_high,'*',label='High Mixing Rate')\n",
        "plt.legend()\n",
        "plt.ylabel('Dissolved Oxygen [mg/L]')\n",
        "plt.xlabel('Time [min]')\n",
        "plt.grid(True)"
      ]
    },
    {
      "cell_type": "markdown",
      "metadata": {
        "id": "7pUNPRiiIL0Q"
      },
      "source": [
        "# Oxygen Deficit\n",
        "We are going to need a number called DO Saturation (or solubility), $DO_{sat}$, for our next calculations. Look up this value for room temperature and 1 atm and *provide a link* to your reference in this box. \n",
        "\n",
        "*Double click on this box to insert your answer*"
      ]
    },
    {
      "cell_type": "markdown",
      "metadata": {
        "id": "fKe5YKAhWz4Z"
      },
      "source": [
        "Now define DO_sat *by editing the code below* using the number you just found. (Change the number. My number is not correct)"
      ]
    },
    {
      "cell_type": "code",
      "execution_count": 25,
      "metadata": {
        "id": "k4p1017eWvjj"
      },
      "outputs": [],
      "source": [
        "DO_sat = 7"
      ]
    },
    {
      "cell_type": "markdown",
      "metadata": {
        "id": "4oQ0I57JJ0vA"
      },
      "source": [
        "Now calculate the \"oxygen deficit\", $D_t$, at each time, for both the low and high mixing rates.\n",
        "\n",
        "$D_t = DO_{sat} - DO_t$\n",
        "\n",
        "I will show you how to do it for the low mixing rate. Edit the code below to do this for the high mixing rate too."
      ]
    },
    {
      "cell_type": "code",
      "execution_count": null,
      "metadata": {
        "id": "QaboSUFtUG5K"
      },
      "outputs": [],
      "source": [
        "# Oxygen deficit for the low mixing rate\n",
        "D_low = DO_sat - DO_low\n",
        "print(\"D_low = \" + str(D_low))\n",
        "print()\n",
        "#D_high = ?\n",
        "#print D_high ..."
      ]
    },
    {
      "cell_type": "markdown",
      "metadata": {
        "id": "AiBoIe7_ZnmQ"
      },
      "source": [
        "If the dissolved oxygen in the water was increasing throughout the experiment, do you expect that the oxygen deficit *increases or decreases* throughout the experiment? \n",
        "\n",
        "*Double click on this box to insert your answer*"
      ]
    },
    {
      "cell_type": "markdown",
      "metadata": {
        "id": "mFEMTDk1b7MG"
      },
      "source": [
        "Now I'd like you to write your own code to plot the oxygen deficit vs. time, ($D_t$ vs. $t$), for both the low and high mixing rate"
      ]
    },
    {
      "cell_type": "code",
      "execution_count": null,
      "metadata": {
        "id": "2PwFuC42cMFW"
      },
      "outputs": [],
      "source": [
        "# Write your own code to plot D_t vs t, for both the low and high mixing rates\n",
        "# Hint, use the plotting code above to get youself started!"
      ]
    },
    {
      "cell_type": "markdown",
      "metadata": {
        "id": "8hrX9HQyZ2Vz"
      },
      "source": [
        "Even though we are *NOT* dealing with a chemical reation (you might need to go back and change an earlier answer after seeing this), we can still make an ANALOGY with a chemical reaction. We would say that $DO_t$ was similar to a chemical *product* because these both increase in concentration over time. By analogy, would the oxygen deficit, $D_t$ be more similar to a chemical *reactant* or a chemical *product* and why? \n",
        "\n",
        "*Double click on this box to insert your answer*"
      ]
    },
    {
      "cell_type": "markdown",
      "metadata": {
        "id": "GLoMflz5c9cc"
      },
      "source": [
        "# Performing a Regression\n",
        "\n",
        "Now let's use a function that will help us find the line of best fit to our oxygen deficit data:\n",
        "\n",
        "`slope, intercept, r_value, p_value, std_err = scipy.stats.linregress(x, y)`\n",
        "\n",
        "But we will replace x and y with\n",
        "\n",
        "x = time\n",
        "\n",
        "y = oxygen deficit\n",
        "\n",
        "I have provided you with an equation for the low mixing rate below. *Please code this for the high mixing rate at well.*\n"
      ]
    },
    {
      "cell_type": "code",
      "execution_count": 29,
      "metadata": {
        "id": "_E-54YcNdz4S"
      },
      "outputs": [],
      "source": [
        "slope_low, intercept_low, r_value_low, p_value_low, std_err_low = stats.linregress(time, D_low)\n",
        "D_low_fit = slope_low*time + intercept_low\n",
        "#Now do this for the high mixing rate too:\n",
        "# D_high_fit = ..."
      ]
    },
    {
      "cell_type": "markdown",
      "metadata": {
        "id": "RC0oGclMd-ne"
      },
      "source": [
        "I have provided you with code to show the fit and the data for the low mixing rate."
      ]
    },
    {
      "cell_type": "code",
      "execution_count": null,
      "metadata": {
        "id": "9E6YyrM8eI7x"
      },
      "outputs": [],
      "source": [
        "plt.figure(figsize=(6,4))\n",
        "plt.plot(time,D_low,'*',label='Low Mixing Rate')\n",
        "plt.plot(time,D_low_fit,color='black', label='Low Mix Fit')\n",
        "plt.legend()\n",
        "plt.ylabel('Oxygen Deficit [mg/L]')\n",
        "plt.xlabel('Time [min]')\n",
        "plt.title('Zero Order Process?')\n",
        "plt.text(0.1,5.1, f'$R^2 = {r_value_low**2:.3f}$', fontsize=12) #The $'s around the R^2 text is for a LaTeX renderer. \n",
        "                 #f <- this f is for f-string formatting\n",
        "                                            #f <- this f is for float, where the .3 means we want to round to the 3rd decimal place \n",
        "plt.grid(True)"
      ]
    },
    {
      "cell_type": "markdown",
      "metadata": {},
      "source": [
        "Note that the left corner of the text label for R^2 in the plot above is located at x=0.1 and y=5.1.\n",
        "\n",
        "Copy and paste the code above and move the text label to x = 15.5, y = 5.5"
      ]
    },
    {
      "cell_type": "code",
      "execution_count": 33,
      "metadata": {},
      "outputs": [],
      "source": [
        "# your code here"
      ]
    },
    {
      "cell_type": "markdown",
      "metadata": {
        "id": "9fpxupJRgQWO"
      },
      "source": [
        "Now, go ahead and make a similar plot for the high mixing rate and its fit.\n",
        "\n",
        "Put the R^2 text wherever you think it looks best. \n",
        "\n",
        "Note: Sometimes you might accidentally place it way off the plot!"
      ]
    },
    {
      "cell_type": "code",
      "execution_count": null,
      "metadata": {
        "id": "l_nKdFp1gYCo"
      },
      "outputs": [],
      "source": [
        "# Plot of oxygen deficit vs. time, and best fit for the high mixing rate"
      ]
    },
    {
      "cell_type": "markdown",
      "metadata": {
        "id": "hleMwfmYhDgx"
      },
      "source": [
        "What does the $R^2$ value tell you? In other words, why do you care about $R^2$?\n",
        "\n",
        "*Double click on this box to insert your answer*"
      ]
    },
    {
      "cell_type": "markdown",
      "metadata": {
        "id": "TGYfV9IejIpP"
      },
      "source": [
        "# Zero-Order Process?\n",
        "By fitting to the data in this form, you tested how well a \"zero-order\" rate describes this process. The ODE for a zero-order process looks like this $\\frac{dD}{dt} = -k$\n",
        "\n",
        "Where we put a negative in front of the k because oxygen deficit is decreasing over time.\n",
        "\n",
        "The solution to this ODE is\n",
        " $D = -kt+D_0$\n",
        "\n",
        "This equation is already in linear form, $y = mx+b$, where $y = D$, $x = t$, and $b = D_0$. Following this analogy, what is m=?\n",
        "\n",
        "*Double click on this box to insert your answer*"
      ]
    },
    {
      "cell_type": "markdown",
      "metadata": {
        "id": "j-lP7fe4hOFq"
      },
      "source": [
        "What are the units of k for a zero-order process?\n",
        "\n",
        "*Double click on this box to insert your answer*"
      ]
    },
    {
      "cell_type": "markdown",
      "metadata": {
        "id": "abZnaBlQh8n2"
      },
      "source": [
        "Note the equations above were written using LaTeX. Double click on the box that includes the equations to see how I did this, because you will be asked to do something similar later in this lab."
      ]
    },
    {
      "cell_type": "markdown",
      "metadata": {
        "id": "2TZ2C2xThv3K"
      },
      "source": [
        "# Higher-Order Process?\n",
        "Now start thinking about how you would manipulate your data to consider \"first-order\" or \"second-order\" processes. Hint: You may need to check your notes on the linear forms of reaction orders. You will need to use the calculations below. I have provided the calculations for the low mixing rate. Please write code to match for the high mixing rate."
      ]
    },
    {
      "cell_type": "code",
      "execution_count": null,
      "metadata": {
        "id": "XJu9zPFahgg7"
      },
      "outputs": [],
      "source": [
        "#Low mixing rate\n",
        "ln_D_low = np.log(D_low)\n",
        "print(\"ln(D_low) = \" + str(ln_D_low))\n",
        "print()\n",
        "D_flip_low = 1./D_low\n",
        "print(\"1/D_low = \" + str(D_flip_low))\n",
        "print()\n",
        "\n",
        "#High mixing rate\n",
        "#ln_D_high = ...\n",
        "#D_flip_high = ..."
      ]
    },
    {
      "cell_type": "markdown",
      "metadata": {
        "id": "7iNl2Q4Okv1V"
      },
      "source": [
        "# First-Order Process?\n",
        "What would the ODE look like if this was a first-order process?\n",
        "\n",
        " *Please write your answer in this box using LaTeX notation.*"
      ]
    },
    {
      "cell_type": "markdown",
      "metadata": {
        "id": "gqFYjzRUlboD"
      },
      "source": [
        "What is the solution of this ODE for a first-order process? \n",
        "\n",
        "*Please write your answer in this box using LaTeX notation.*"
      ]
    },
    {
      "cell_type": "markdown",
      "metadata": {
        "id": "BXxrJG-rlkOY"
      },
      "source": [
        "What is the linear form of this ODE if this is a first-order process? \n",
        "\n",
        "*Please write your answer in this box using LaTeX notation.*"
      ]
    },
    {
      "cell_type": "markdown",
      "metadata": {
        "id": "KYU90-cilqP0"
      },
      "source": [
        "How would you use the *linear form* of this ODE to test if your data behaves like a first-order process? \n",
        "\n",
        "*Please create the necessary plots, fits, and calculations below.* \n",
        "\n",
        "*Please do this for both the low and high mixing rates*"
      ]
    },
    {
      "cell_type": "code",
      "execution_count": null,
      "metadata": {
        "id": "k7UA7CbRmJVe"
      },
      "outputs": [],
      "source": [
        "# Your first-order code here. You got this!\n",
        "# Make sure you label all plots with the proper units!\n",
        "# Hint: Use the variables that we created in the previous code block\n",
        "# Hint: You will need to use the scipy.stats.linregress function again,\n",
        "# but your inputs to the function will change\n",
        "# Hint: You may need to change the location of the R^2 label on your plot\n",
        "# such that x and y are more reasonable values on your graph"
      ]
    },
    {
      "cell_type": "markdown",
      "metadata": {
        "id": "3iMhiQehmhaa"
      },
      "source": [
        "What is the value of k in your first-order ODE for both the low and high mixing experiments?  Be sure to specify your units! \n",
        "\n",
        "*Please write your answer in this box.*"
      ]
    },
    {
      "cell_type": "markdown",
      "metadata": {
        "id": "1Kw6jW24mEsc"
      },
      "source": [
        "# Second-Order Process?\n",
        "What would the ODE look like if this was a second-order process?\n",
        "\n",
        "*Please write your answer in this box using LaTeX notation.*"
      ]
    },
    {
      "cell_type": "markdown",
      "metadata": {
        "id": "3FnSbTc5mKbf"
      },
      "source": [
        "What is the solution of this ODE for a second-order process? \n",
        "\n",
        "*Please write your answer in this box using LaTeX notation.*\n"
      ]
    },
    {
      "cell_type": "markdown",
      "metadata": {
        "id": "OgjRX7ybmSd8"
      },
      "source": [
        "What is the linear form of this ODE if this is a second-order process? \n",
        "\n",
        "*Please write your answer in this box using LaTeX notation.*"
      ]
    },
    {
      "cell_type": "markdown",
      "metadata": {
        "id": "bfDlyhlDmWXT"
      },
      "source": [
        "How would you use the *linear form* of this ODE to test if your data behaves like a second-order process? \n",
        "\n",
        "*Please create the necessary plots, fits, and calculations below. Please do this for both the low and high mixing rates*"
      ]
    },
    {
      "cell_type": "code",
      "execution_count": 40,
      "metadata": {
        "id": "eBXXNmdGlZcb"
      },
      "outputs": [],
      "source": [
        "# Your second-order code here. You got this!\n",
        "# Make sure you label all plots with the proper units!\n",
        "# Hint: Use the variables that we created in the previous code block\n",
        "# Hint: You will need to use the scipy.stats.linregress function again,\n",
        "# but your inputs to the function will change\n",
        "# Hint: You may need to change the location of the R^2 label on your plot\n",
        "# such that x and y are more reasonable values on your graph"
      ]
    },
    {
      "cell_type": "markdown",
      "metadata": {
        "id": "Sga5UL7JnCNY"
      },
      "source": [
        "What is the value of k in your second-order ODE for both the low and high mixing experiments? Be sure to specify your units! \n",
        "\n",
        "*Please write your answer in this box.*"
      ]
    },
    {
      "cell_type": "markdown",
      "metadata": {
        "id": "9D-qlBkMnHXP"
      },
      "source": [
        "# Summary\n",
        "\n",
        "*In this box, please write a reflection (a few sentences or a couple paragraphs) on which order process best describes both the low and high mixing experiment based on your $R^2$ values.*"
      ]
    },
    {
      "cell_type": "markdown",
      "metadata": {},
      "source": [
        "# NOTE\n",
        "\n",
        "While this $R^2$ approach is often used in the literature, it is not reliable when the differences in $R^2$ values are similar because the units on the y-axis are not the same for each linear model, and since $R^2$ is not a great test of model fit.\n",
        "\n",
        "The formal approach to discrimination between two or more alternative models relies on comparing the residual sum-of-squares values from the competing models where the units on the y axis are the same (e.g. not transformed in to a linear form). Then a hypothesis test can be conducted to determine if the two models can be statistically distinguished (i.e., is the difference greater than can be explained by simple random variation?). If they can not be distinguished it is best to use the simplest form (e.g. first order would be preferred over second order)."
      ]
    },
    {
      "cell_type": "markdown",
      "metadata": {
        "id": "p5HkyJ-XptUX"
      },
      "source": [
        "# Turn it in!\n",
        "After you are finished, please make sure all of your boxes are expanded, and then go to File -> Download as -> Notebook .ipynb. Then upload this .ipynb file to Canvas. Then you are done!"
      ]
    }
  ],
  "metadata": {
    "colab": {
      "provenance": []
    },
    "kernelspec": {
      "display_name": "Python 3",
      "name": "python3"
    },
    "language_info": {
      "codemirror_mode": {
        "name": "ipython",
        "version": 3
      },
      "file_extension": ".py",
      "mimetype": "text/x-python",
      "name": "python",
      "nbconvert_exporter": "python",
      "pygments_lexer": "ipython3",
      "version": "3.11.7"
    }
  },
  "nbformat": 4,
  "nbformat_minor": 0
}
