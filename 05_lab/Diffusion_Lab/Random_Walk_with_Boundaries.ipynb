{
  "cells": [
    {
      "cell_type": "markdown",
      "metadata": {
        "id": "eeA15aJp2mcW"
      },
      "source": [
        "# Impermeable Boundaries\n",
        "\n",
        "What if we want to solve the 1-D diffusion equation,\n",
        "$\\frac{dc}{dt} = D\\frac{d^2 c}{dx^2}$\n",
        "\n",
        "for an instantaneous plane tracer release,\n",
        "\n",
        "$c_0(x) = M \\delta(x)$ at $t=0$\n",
        "\n",
        "where one side of the domain continues to be infinite\n",
        "$\\lim_{x\\to+\\infty} c = 0$\n",
        "\n",
        "but this time we want to consider an impermeable boundary (no flux) to the left of the release\n",
        "\n",
        "$J_{diffusive} = -D\\frac{dc}{dx} = 0$ at $x = L$.\n",
        "\n",
        "What would our solution look like?\n",
        "\n",
        "Well we can gain some intiution from the random walk again by considering:\n",
        "\n",
        "What if a drunkard ran into a wall on their walk? How would this modify their path?  How would it modify the overall probability distribution of the drunkards path? We can test it with our code."
      ]
    },
    {
      "cell_type": "code",
      "execution_count": 28,
      "metadata": {
        "id": "_kbz4mtW1tsZ"
      },
      "outputs": [],
      "source": [
        "import numpy as np\n",
        "import matplotlib.pyplot as plt\n",
        "import seaborn as sns"
      ]
    },
    {
      "cell_type": "code",
      "execution_count": 29,
      "metadata": {
        "id": "8HzxkRq3uw51"
      },
      "outputs": [],
      "source": [
        "# Define a function decribing the random walk with an impereable boundary\n",
        "\n",
        "def random_walk_with_impermeable_wall(m_steps, wall_location):\n",
        "    # m_steps = Number of steps drunkard takes (related to time assuming consistent steps)\n",
        "    # wall_location = x bin location of a wall\n",
        "    step_prob = 0.5  # Can step left or right equally.\n",
        "\n",
        "    if wall_location<0:\n",
        "        particle_not_allowed = wall_location-1\n",
        "    if wall_location>0:\n",
        "        particle_not_allowed = wall_location+1\n",
        "    if wall_location==0:\n",
        "        return print('Wall location can not be zero. Try again')\n",
        "    if int(wall_location)!=wall_location:\n",
        "        return print('Wall location must be an integer. Try again')\n",
        "\n",
        "    # Set up a vector to store our positions.\n",
        "    position = np.zeros(m_steps+1)  # Full of zeros. Includes starting position at zero which is the plus 1\n",
        "\n",
        "    # Loop through each step.\n",
        "    for i in range(1, m_steps):\n",
        "\n",
        "        dice_roll = np.random.rand() #random number between 0 and 1\n",
        "\n",
        "        # Figure out if the drunkard steps left or right\n",
        "        if dice_roll < step_prob:\n",
        "            step = -1  # To the 'left'.\n",
        "        else:\n",
        "            step = 1  # to the 'right'.\n",
        "\n",
        "        check_wall = position[i]+step\n",
        "        if check_wall == particle_not_allowed: #Particle not allowed to exist beyond the wall\n",
        "            step = 0\n",
        "\n",
        "        # Update our position based off of where we were in the last time point.\n",
        "        position[i+1] = position[i] + step\n",
        "\n",
        "    return position"
      ]
    },
    {
      "cell_type": "code",
      "execution_count": null,
      "metadata": {
        "colab": {
          "base_uri": "https://localhost:8080/",
          "height": 449
        },
        "id": "odVYZSURz7ll",
        "outputId": "684e127b-8041-4738-d444-12c278b5eef1"
      },
      "outputs": [],
      "source": [
        "# Number of steps drunkard takes\n",
        "m_steps = 1000\n",
        "# Make a time vector (assuming one step per unit time)\n",
        "time = np.arange(0,m_steps+1, 1)  # Array from 0 to m_steps taking intervals of 1.\n",
        "# Let the drunkard walk!\n",
        "wall_loc = -2 # wall location - must be an integer\n",
        "position = random_walk_with_impermeable_wall(m_steps,wall_loc)\n",
        "\n",
        "# Plot the wall\n",
        "plt.plot([wall_loc, wall_loc],[time[0],time[-1]],'r',linewidth=2)\n",
        "# Plot the particle path\n",
        "plt.plot(position, time)\n",
        "plt.xlabel('position [step length]')\n",
        "plt.ylabel('time [step time]')\n",
        "plt.grid('True')\n"
      ]
    },
    {
      "cell_type": "markdown",
      "metadata": {
        "id": "xJQ0PHRdmFSA"
      },
      "source": [
        "Run the code above enough times to see what happens when the drunkard runs into the wall.\n",
        "\n",
        "Then run the simluation 1000 times using the code below to get a better sense of the probability distribution of the drunkards path"
      ]
    },
    {
      "cell_type": "code",
      "execution_count": 41,
      "metadata": {
        "id": "jNxIcvEi0wn6"
      },
      "outputs": [],
      "source": [
        "wall_loc = -25 # wall location\n",
        "\n",
        "# Now do this similation 1000 times...\n",
        "sim_num = 1000\n",
        "\n",
        "# Make a new position vector. This will include all simulations.\n",
        "position = np.zeros((m_steps+1, sim_num))\n",
        "\n",
        "# Loop through each simulation.\n",
        "for i in range(sim_num):\n",
        "    position[:,i] = random_walk_with_impermeable_wall(m_steps,wall_loc)"
      ]
    },
    {
      "cell_type": "markdown",
      "metadata": {
        "id": "L7pKGk92mU6J"
      },
      "source": [
        "Let's see what the paths look like plotted on top of each other."
      ]
    },
    {
      "cell_type": "code",
      "execution_count": null,
      "metadata": {
        "colab": {
          "base_uri": "https://localhost:8080/",
          "height": 449
        },
        "id": "XfJjSpgy2Cal",
        "outputId": "bd490ff8-4119-45d1-b626-75169c1e10f0"
      },
      "outputs": [],
      "source": [
        "# Plot the wall\n",
        "plt.plot([wall_loc, wall_loc],[time[0],time[-1]],'r',linewidth=2)\n",
        "# Plot all of the trajectories together.\n",
        "for i in range(sim_num):\n",
        "    plt.plot(position[:,i], time, color='k', linewidth=1, alpha=0.05)\n",
        "\n",
        "# Add axis labels.\n",
        "plt.xlabel('position [step length]')\n",
        "plt.ylabel('time [step time]')\n",
        "plt.xlim([-100, 100])\n",
        "plt.grid(True)"
      ]
    },
    {
      "cell_type": "markdown",
      "metadata": {
        "id": "xDy2DRa5fM9W"
      },
      "source": [
        "In the plot above, around time = 600, do you notice a difference in probability density between position = -25 and position = +25?\n",
        "\n",
        "Let's look at the probability density function for this time..."
      ]
    },
    {
      "cell_type": "code",
      "execution_count": null,
      "metadata": {
        "colab": {
          "base_uri": "https://localhost:8080/",
          "height": 645
        },
        "id": "XEZtw4hb1H5h",
        "outputId": "978ffcfb-6db4-4f4a-a520-c120c71d0166"
      },
      "outputs": [],
      "source": [
        "# Make a probability density function of the positions. To look at t=599, we have to index at\n",
        "# 199 because indexing starts at 0 in Python. We'll also normalize the\n",
        "# histogram (density=True) so we can get a measure of probability.\n",
        "sns.distplot(position[599,:], hist=True, kde=True, bins=20)\n",
        "plt.xlim([-100, 100])"
      ]
    },
    {
      "cell_type": "markdown",
      "metadata": {
        "id": "IbuYmB3YaXeC"
      },
      "source": [
        "Note that the our probability density function has become skewed towards the wall. This is because the particles have bounced off the wall so more end up near the wall than they would have if the wall was not there. We can think of this as a \"folding over\" of the solution we found for the situation without a boundary.\n",
        "\n",
        "<img src='https://lh3.googleusercontent.com/pXe-sWZ0ZSDN-CPmbK0fB_EAQ8mtNQ19Ll3tK3bUXryTe2ARL_bri5Y8ryM1nXoXGPLr96yavCb3FdoDugwoXp5HLsGBUaFaKfz-4SEcnOF-VgSG0En51p-jAKdflHqUU8pN1i7KsTUDlmP65I0qKchCjX2QoFiNUh5erjUQ8weikIOrEXwNacshVdHaSbpuRDReIjw24JA3vowBXP4V_7xIdN7885BYgS83NDiV0nS6PQDoraRcOAt6i5idTR1TseFrptQ2_lhTyBqqoPwYFA1d9ulvNaB3vv8huftZuOiU7X3izoiFJ489EdaUPosyKV5hgiPWEZbU5mTSYcP0IfIvEid8fFZrjxNLzkWbxKBqiHSI2FjvCUeDFN53J7oC9cS0Chg39v48uOAMCdd8BewYYjHUc_Gq_sTrTDIuxxFCRDrgBdlX_UXl54-49E-uGxzBPSYogDAwC4T6weAWauGDeGSqFhpSa6knRAj0V4Lecp2JvOFG7wKsWPRx0qiGmkZl6mjZ_8HGaQQrkXcrrMYu7W5zLsNuDZesQWI_COxABFnHBfsb6C_K5oGaYGowKKilNEHA3wXs39aqyJXhmsRFHJ3CMWS0WSyEM3n-DLfmM4dk68bHNyG1wn1RXdRUxCFcDAxtGxEzDdrC0ppnLjCOEusA76DsSaGEfhgpKBMspjqt95ompjiMNYbZZDzR28fCn4j-Nmb5pdZ1yU3ZgZazWn-r6wSz6AJvQ9BnA7_PaQtqaUb7-o_t6JC79Yvjs2L_QtnmtXfS-uIwCWSncV59j4KgMgJVP7X_L5B8Ihh9Xf59m3-kHQipsSpXw6cQnbScRMgqq8-c7vxOTTLwTSaHClJ-Zvv0uVVgfXiPuc74JxQoj7Pz-yta1DxeQX13wQN1q2YEtwOfUsL2trycB2sKM-OrSIX2jh4HOHxgWOrwG5p5wn0fGDa6EGmBdHeCdsta_yKEFcAXAAYJ6VgkyHVP72lCAVNHQhm-0pBlwrbOWIu6JFIN593y57IoeP0cxyVyCskLzWnO4MhijUbd9A=w898-h470-no?authuser=3'>"
      ]
    },
    {
      "cell_type": "markdown",
      "metadata": {
        "id": "-txARyPLd-Nx"
      },
      "source": [
        "We can account for this \"folding-over\" by adding the solution of an \"image source\" to the solution that we had found previously when we had no boundary.\n",
        "\n",
        "<img src='https://lh3.googleusercontent.com/QJPBYP7Xr-aw1EKBsjDJtU2rg8oom5EmKEkiOBWN-HlMs3ElCBAAwHdxJYr_jV_If0M3m_-ASn4B3tiJ5DQ3YIsX1apGR8tKu9WVi3oA63S_AYd_u9Vap3LZPAlwf47qVGudj8iErzjZCX5ij_btBL2oHuki9RreXuSMvtzCdiCcrlHzP6myX-_xqiSYb100YaE2vk5CYjYsLs77JqCgMJQ4T9ISjhI7cbxwiL3hqiNibois6p4W6kjbDwKvV-oE8ZlpP5EsR0R4hgaChfhHydjRpom_vYXnUbJpIvZpB-51ccT3BNp5qWpBB92TppFHNylSWtASm6pjcXC0UcFkD0GPFT9cjNNGGFN3L2YPRYxPxVKW4obq68mGvThkGz6X1YT9i9CF-Hx-QMyAIJnjywLCvrUS9LKkz-Nu2OXCt3-jWGYpzulRHpZeYzZzIPKDGAcPJnEBXhb_kK-qDOAV3KPqT4m8hDVAI_pXNJCorUXGwcV0zhoiOqdNKeDhrFgM-L9jpQc3tjQkxDyBS97yWXrdANigOZqfbh0gW7GhAL3G4OxkU0b0qtqzfqOdwy_sAhSDPqdAW2axp4h7-zKaEnb-EE7rSp07ZOlevEMPIS74Qm1yfu6Df7k1eGASDWtQxCwUXOgq0gWf8RIh8aTJUTRfgkDrajOhWFE_qwNsvldEr2bPlmlm77147d6wurJ73LuP2F7M9hWRqfwEy3VDtJqMIf8AlNeDCQSJzQBl802m6RTz9balpj6qmWGVLB2wfzd8vCeBWQzKFaLhsLJLoV4MRp2J6_F5C2eS82HPR5LNeuUea_pLO_052zsot_cuT8ixY0UJerlxrCYLPZkgWA5un3477m7iJrhFg6-r5RxheZLzbYktZdpBiI819-BY2jmK1JEGJv58HxCqVtYIiomNb8YVMeAjhmO3Nnh4fDYwYcmb95mPw8c8s0JkHKRwUxfW6BJH2Y1YMpYoq3b5_GPVcP1H-qMpNEcODsqWKbbLN0eT2_Iz5Z-BAjVW0B3BZB1rcuUmfUwVnsZc85VG0w=w732-h296-no?authuser=3'>"
      ]
    },
    {
      "cell_type": "markdown",
      "metadata": {
        "id": "jUQ2xdhggAWG"
      },
      "source": [
        "Therefore, our analytical solution for the **boundary problem** is simply the *addition of two solutions for our no-boundary problem*: the real source solution + the image source solution.\n",
        "\n",
        "Solution to no-boundary problem with our \"real source\" located at $x_{real} = 0$:\n",
        "\n",
        "$c(x,t)_{real} = \\frac{M}{\\sqrt{ 4 \\pi D t}}e^{(-\\frac{(x-x_{real})^2}{4Dt})}$\n",
        "\n",
        "Solution to no-boundary problem with an \"image source\" at $x_{image} = -2L$:\n",
        "\n",
        "$c(x,t)_{image} = \\frac{M}{\\sqrt{ 4 \\pi D t}}e^{(-\\frac{(x-x_{image})^2}{4Dt})}$\n",
        "\n",
        "Adding these two together we get a solution to the boundary problem\n",
        "\n",
        "$c(x,t) = c_{real} + c_{image} = \\frac{M}{\\sqrt{ 4 \\pi D t}}[e^{(-\\frac{(x-x_{real})^2}{4Dt})} + e^{(-\\frac{(x-x_{image})^2}{4Dt})}]$\n"
      ]
    },
    {
      "cell_type": "markdown",
      "metadata": {
        "id": "cwDYcGexlr0E"
      },
      "source": [
        "# Perfectly Sorbing Boundaries\n",
        "\n",
        "Now consider the case that when a particle bumps into a wall it is removed from the system due to sorption."
      ]
    },
    {
      "cell_type": "markdown",
      "metadata": {
        "id": "3Ewra56vtjD1"
      },
      "source": [
        "1) Copy and modify the code above to describe this scenario with a random walk. Use the code boxes below for this.\n",
        "\n",
        "HINTs: \n",
        "\n",
        "For the impermeable boundary situation above, we wanted to make sure the particle/drunkard did not pass THROUGH the wall. (No flux.) That is why we checked for the wall location and then checked to see if the particle was trying to pass through the wall with its next step.  This is not the right approach for the sorbing boundary, so remove the stuff about `particle_not_allowed` and `check_wall`.\n",
        "\n",
        "For the sorbing boundary, you want the particle to disappear when it TOUCHES the wall. So for this one you want to check if the particle has reached the wall, and if so, then the particle should DISAPPEAR from the fluid. Note: `np.nan` might be useful.\n",
        "\n",
        "In theory the particle is instantly sorbed at the wall, but because we have discretized the time variable to simulate this process numerically, it is impossible to show a particle sorbing instantaneously. *In your simulation, allow the particle to reach the wall, but in all future time steps it should dissapear.* This approximation of \"instantaneous\" is somewhat unsatisfying becuase it looks like there is a moment when it lingers on the wall and is not sorbed. However the alternative is also unsatisfying: If we have it disappear in the same time step that it first hits the wall, it will look like it never made it to the wall at all.\n",
        "\n"
      ]
    },
    {
      "cell_type": "code",
      "execution_count": 34,
      "metadata": {
        "id": "spfuBzg7sQ-k"
      },
      "outputs": [],
      "source": [
        "# Define a function describing the random walk with a sorbing boundary\n",
        "# where the particle hits the wall and then disappears.\n"
      ]
    },
    {
      "cell_type": "code",
      "execution_count": 35,
      "metadata": {
        "id": "aT7dyqdcu6x0"
      },
      "outputs": [],
      "source": [
        "# Plot an example of a single drunkards path when a perfectly sorbing wall is present\n",
        "# Pick a wall location close to the release position so that you can easily test if your code is working\n"
      ]
    },
    {
      "cell_type": "code",
      "execution_count": null,
      "metadata": {
        "id": "UqppUprcvWQf"
      },
      "outputs": [],
      "source": [
        "# Run 1000 simulations with a wall location at position = -25\n",
        "\n"
      ]
    },
    {
      "cell_type": "code",
      "execution_count": null,
      "metadata": {
        "id": "Rymvj8vWvb-p"
      },
      "outputs": [],
      "source": [
        "# Plot all of the simulation trajectories together.\n"
      ]
    },
    {
      "cell_type": "code",
      "execution_count": null,
      "metadata": {
        "id": "byXC7W0Svq6U"
      },
      "outputs": [],
      "source": [
        "# Take a look at the histogram of the probability density function at a time of interest\n"
      ]
    },
    {
      "cell_type": "markdown",
      "metadata": {
        "id": "dSt3DLQDCvC3"
      },
      "source": [
        "Does your calculated distribution in the cell above look like the solid gray line in this schematic?\n",
        "<img src = 'https://lh3.googleusercontent.com/NcnUDuR41a5SIxLk5BLzOBpJmDQfFlxccNovx4cYBoAExYqC9BrXSmdFC3WN16XFZTe0HpWO14xM1XuIa-rOMlUEQnVtWG3bsJziCeRxvDemeq3zi-aGQXAA_cmAtVozR5jTrWAs-Te2GDBIQMtlo3J71gKCLj3vzZqSC8NsEr4tSsU9DkWihl8ivjkQmM_BrS_7LpjaI5MWjajQywruCQiWmljbDBWn_BfCLG7YAtna8FFCYNlKDtggsq7mritewfbhdkfNdv7OeQm-YBMt6mEu7Rx9bkfa_xHor8aOoPUrFei4Puwb7-2VPBSd8DkZ4UGfx9btBkK1r0CXVVSqtLq0WhXhOPbJW2KaI2VGqCihN8qKC06JTVxyKmpj22AkY6cmfjzuKoqyXo8OvavUoYdj0CpqaXXkTLEbqtV1akViaFT9_87WAYvg1gzyLDuJJXWxFthuooJDuHQBzoytevaYOLv4b63LxT6NzmPCSkPr1M2OsQ8Lue2pveWrhHwGNUn6RvhoWQroCeboHp4b2QvpJ6jVmsPQVR75d-7HEFXcognBU_XRVSENFlqC3W8z-2SMnC4vgk3hCc_JHQ8aCL2AE4c4qJNA__sWSDa5hMEbbfr_E9aCRkj7DH-0HjPUcVAEYjAPkZaekWYey20B58lC0xulKBKDjBGjVL2KiKYVNuPTdIRAUeRzBdNSXdsZaHZwj5-Pez6e91SCyyAU84YI9yWPpiGERTZLuE9pIg07eKQxCJ6mysq1-rP6GHRJ19lUTXp_5eKl3ytRaFQh3lM7iJ7xu7IbuyIgKvoEdXPj0Q9IiV0Fohxz29la7XhUOF4IF-wbMgZ584K5LP5wL4xC1kphQVZ5-w8wnMVW-fu1cH6sX_687v4nKE34xCXkZGlSe_2PKo8aD2mMh47HlqX1doYjTCKEMDfe7SB4tZdCj4XKjVCwf-6NI-VmZbhcAvh2205Mye81cAHMvPkJP1l0o9AaeVDvkwH1TJkz5hfqHcL3UBBClO4bhhzqesO6z-w6i0b5ZBAuaUiknUgeXg=w756-h316-no?authuser=3'>"
      ]
    },
    {
      "cell_type": "markdown",
      "metadata": {
        "id": "i_2A7RbsuA3e"
      },
      "source": [
        "2) Now try to come up with the analytical solution based on your intuition from this exercise and by analogy with the impermeable boundary. Write your analytical solution in LaTeX here.\n",
        "\n"
      ]
    },
    {
      "cell_type": "markdown",
      "metadata": {
        "id": "3meTgAXXuDE7"
      },
      "source": [
        "3) Write the governing equation, initial condition and boundary conditions for which this this solution is useful.\n",
        "\n",
        "Hint for the wall boundary: The wall sucks up the particle so what is the concentration in the FLUID at the wall?"
      ]
    },
    {
      "cell_type": "markdown",
      "metadata": {
        "id": "C_Qd_XATIAKM"
      },
      "source": [
        "# Turn it in!\n",
        "\n",
        "After you are finished, go to File -> Download. Then upload this .ipynb file to Canvas. Then you are done!"
      ]
    }
  ],
  "metadata": {
    "colab": {
      "provenance": [],
      "toc_visible": true
    },
    "kernelspec": {
      "display_name": "Python 3",
      "name": "python3"
    },
    "language_info": {
      "name": "python"
    }
  },
  "nbformat": 4,
  "nbformat_minor": 0
}
