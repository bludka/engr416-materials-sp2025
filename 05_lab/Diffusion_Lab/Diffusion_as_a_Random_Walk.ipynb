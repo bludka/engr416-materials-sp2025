{
  "cells": [
    {
      "cell_type": "markdown",
      "metadata": {
        "id": "8p_yZz_FzESZ"
      },
      "source": [
        "# Diffusion as a Random Walk\n",
        "\n",
        "In this exercise we will show that Fickian Diffusion is analogous to a random walk. (This is a simplified version of what Albert Einstein showed in his celebrated 1905 paper about Brownian Motion.)\n",
        "\n",
        "Let's stick with the simple 1-D case.\n",
        "\n",
        "Imagine we divide the x axis into bins and place a particle in a bin.\n",
        "\n",
        "Now imagine that the particle will jump randomly such that\n",
        "*   50% chance it will hop one bin to the left\n",
        "*   50% chance it will hop one bin to the right"
      ]
    },
    {
      "cell_type": "markdown",
      "metadata": {
        "id": "yJsGqQC-Tsyh"
      },
      "source": [
        "## Drunkards Path\n",
        "You may be amused to know that this is often also often referred to as the \"drunkards\" path.\n",
        "\n",
        "Where will the particle/drunkard end up?\n",
        "\n",
        "Because of the random nature of the problem, we can't know exactly where they will end up, but we can estimate the likelyhood that they will end up in a certain place. In other words, we can answer this question in terms of probabilities."
      ]
    },
    {
      "cell_type": "markdown",
      "metadata": {
        "id": "e26uVMZMUBi-"
      },
      "source": [
        "## Setting up the Problem\n",
        "We broke up the x axis into bins and we can describe our particle's position on the x axis as $x = n*\\Delta x$, where n is the spatial index or bin number, and $\\Delta x$ is the size of the bin.\n",
        "\n",
        "Similarly we can break up the time axis into bins such that $t = m \\Delta t$.\n",
        "\n",
        "Now we want to be able to find the probability as a function of space and time:\n",
        "\n",
        "$p(n \\Delta x, m \\Delta t) = ?$\n",
        "\n",
        "Let's do this by having our computer do a bunch of random walk simulations!"
      ]
    },
    {
      "cell_type": "code",
      "execution_count": 1,
      "metadata": {
        "id": "BFTYP9iz-sgI"
      },
      "outputs": [],
      "source": [
        "import numpy as np\n",
        "import matplotlib.pyplot as plt\n",
        "import seaborn as sns"
      ]
    },
    {
      "cell_type": "code",
      "execution_count": null,
      "metadata": {
        "colab": {
          "base_uri": "https://localhost:8080/"
        },
        "id": "gdUEN91Zv0fh",
        "outputId": "a6c33697-fef2-4443-d6d6-8cbbdb820d4c"
      },
      "outputs": [],
      "source": [
        "# \"Roll the die\"\n",
        "np.random.rand() #gives us a random # between 0 and 1"
      ]
    },
    {
      "cell_type": "code",
      "execution_count": 3,
      "metadata": {
        "id": "gn-8hVsX_ldG"
      },
      "outputs": [],
      "source": [
        "# Define a function decribing the random walk\n",
        "\n",
        "def random_walk(m_steps):\n",
        "    # m_steps = Number of steps drunkard takes (related to time assuming consistent steps)\n",
        "    step_prob = 0.5  # Can step left or right equally.\n",
        "\n",
        "    # Set up a vector to store our positions.\n",
        "    position = np.zeros(m_steps+1)  # array full of zeros. The number of zeros is m_steps+1.\n",
        "\n",
        "    # Loop through each step.\n",
        "    for i in range(1, m_steps):\n",
        "\n",
        "        dice_roll = np.random.rand() #random number between 0 and 1\n",
        "\n",
        "        # Figure out if the drunkard steps left or right\n",
        "        if dice_roll < step_prob:\n",
        "            step = -1  # To the 'left'.\n",
        "        else:\n",
        "            step = 1  # to the 'right'.\n",
        "\n",
        "        # Update our position based off of where we were in the last time point.\n",
        "        position[i+1] = position[i] + step\n",
        "\n",
        "    return position"
      ]
    },
    {
      "cell_type": "code",
      "execution_count": null,
      "metadata": {
        "colab": {
          "base_uri": "https://localhost:8080/",
          "height": 467
        },
        "id": "b9jcvE65y_eu",
        "outputId": "ee449d44-0517-4052-a585-0f0c73ced574"
      },
      "outputs": [],
      "source": [
        "# Number of times drunkard takes a step\n",
        "m_steps = 1000\n",
        "\n",
        "# Make a time vector (assuming one step per unit time)\n",
        "time = np.arange(0,m_steps+1, 1)  # Arange from 0 to m_steps+1, taking intervals of 1.\n",
        "\n",
        "# Let the drunkard walk!\n",
        "position = random_walk(m_steps)\n",
        "\n",
        "# Plot it!\n",
        "plt.plot(position, time)\n",
        "plt.xlabel('position [step length]')\n",
        "plt.ylabel('time [step time]')"
      ]
    },
    {
      "cell_type": "markdown",
      "metadata": {
        "id": "-FbAZVtcO7Sz"
      },
      "source": [
        "Run the code above again to see another possible path the particle/drunkard could take."
      ]
    },
    {
      "cell_type": "markdown",
      "metadata": {
        "id": "TQQpSx7kPD-2"
      },
      "source": [
        "Now let's save the output from 1000 runs into a matrix..."
      ]
    },
    {
      "cell_type": "code",
      "execution_count": 5,
      "metadata": {
        "id": "Kqtjp2L--5-E"
      },
      "outputs": [],
      "source": [
        "# Now do this similation 1000 times...\n",
        "sim_num = 1000\n",
        "\n",
        "# Make a new position vector. This will include all simulations.\n",
        "m_steps = 1000\n",
        "position = np.zeros((m_steps+1, sim_num))\n",
        "\n",
        "# Loop through each simulation.\n",
        "for i in range(sim_num):\n",
        "    position[:,i] = random_walk(m_steps)"
      ]
    },
    {
      "cell_type": "code",
      "execution_count": null,
      "metadata": {
        "colab": {
          "base_uri": "https://localhost:8080/",
          "height": 467
        },
        "id": "Afs4-zNT-Ecq",
        "outputId": "dfd34c61-5bd6-43d6-dd6c-db2c288f42da"
      },
      "outputs": [],
      "source": [
        "# Plot all of the trajectories together.\n",
        "for i in range(sim_num):\n",
        "    plt.plot(position[:,i], time, color='k', linewidth=1, alpha=0.05)\n",
        "\n",
        "# Add axis labels.\n",
        "plt.xlabel('position [step length]')\n",
        "plt.ylabel('time [step time]')"
      ]
    },
    {
      "cell_type": "markdown",
      "metadata": {
        "id": "2_fc3TqEjOJI"
      },
      "source": [
        "Ok, let's consider our initial condition. To look at t=0,\n",
        "we index our position matrix at time = 0, using `position[0,:]`.\n",
        "(Remember that indexing starts at 0 in Python.)\n",
        "We'll also normalize the histogram using `(density=True)` so we can get a measure of **probability density**."
      ]
    },
    {
      "cell_type": "code",
      "execution_count": null,
      "metadata": {
        "colab": {
          "base_uri": "https://localhost:8080/",
          "height": 467
        },
        "id": "6kWVGok4Ga1a",
        "outputId": "7b656493-7b85-4c27-cf97-4d9f6182e546"
      },
      "outputs": [],
      "source": [
        "plt.hist(position[0,:], bins=1, density=True)\n",
        "plt.xlim([-100, 100])\n",
        "plt.xlabel('position')\n",
        "plt.ylabel('probability density')"
      ]
    },
    {
      "cell_type": "markdown",
      "metadata": {
        "id": "myDkbnBnjveS"
      },
      "source": [
        "Unsurprisingly, there is 100% probability that our particle/drunkard is at position 0 at t=0. Now let's look at our probability density as time moved along...\n",
        "First let's look at t=199. Now we use a different type of plot `sns.distplot` that shows us our normalized histogram, and a smoothed version to help us visualize the general shape.\n"
      ]
    },
    {
      "cell_type": "code",
      "execution_count": null,
      "metadata": {
        "colab": {
          "base_uri": "https://localhost:8080/",
          "height": 645
        },
        "id": "5oFhdOVThsb3",
        "outputId": "d28062be-9415-4546-eee2-878b1329d781"
      },
      "outputs": [],
      "source": [
        "# Make a probability density function of the positions.\n",
        "sns.distplot(position[199,:], hist=True, kde=True, bins=20)\n",
        "plt.xlim([-100, 100])"
      ]
    },
    {
      "cell_type": "markdown",
      "metadata": {
        "id": "oJUKMJRRfwPK"
      },
      "source": [
        "Remember that we can integrate over a region of the probability function to obtain the probability that the particle or drunkard will end up in that region. For example if we wanted to know the probability that the drunkard would end up between x locations 0 and 25, we would find the answer by integrating our PDF over that domain. We will use this fact in a moment...\n",
        "\n",
        "Now look at the probability distribution at various times"
      ]
    },
    {
      "cell_type": "code",
      "execution_count": null,
      "metadata": {
        "colab": {
          "base_uri": "https://localhost:8080/",
          "height": 1000
        },
        "id": "VLDb2s3oKb1a",
        "outputId": "3a8bf527-9848-4c8c-95cf-2d17e62f4655"
      },
      "outputs": [],
      "source": [
        "# Now look at the probability distribution at various times\n",
        "sns.distplot(position[199,:], hist=False, kde=True, bins=20)\n",
        "sns.distplot(position[399,:], hist=False, kde=True, bins=20)\n",
        "sns.distplot(position[599,:], hist=False, kde=True, bins=20)\n",
        "sns.distplot(position[799,:], hist=False, kde=True, bins=20)\n",
        "sns.distplot(position[999,:], hist=False, kde=True, bins=20)\n",
        "plt.xlabel('position')\n",
        "plt.ylabel('probability density')\n",
        "plt.xlim([-100, 100])\n",
        "plt.legend(['t=199','t=399','t=599','t=799','t=999'])"
      ]
    },
    {
      "cell_type": "markdown",
      "metadata": {
        "id": "_NMzId1ac1jS"
      },
      "source": [
        "Our probability density function will look like a Guassian (due to the [Central Limit Theorem](https://www.youtube.com/watch?v=JNm3M9cqWyc&t=587s)):\n",
        "\n",
        "$probability \\ density = \\frac{1}{\\sigma \\sqrt{ 2 \\pi }}e^{(-\\frac{x^2}{2\\sigma^2})}$\n",
        "\n",
        "Hopefully we are also convinced of this because our plots above look fairly Guassian.\n",
        "\n",
        "The probability that our particle/drunkard ends up between a position $x$ and $x + \\Delta x$ is:\n",
        "\n",
        "$ p(x,t) = (probability \\ density)*\\Delta x$, such that\n",
        "\n",
        "$ \\ \\ \\ \\ \\ \\ \\ \\ \\ \\  = \\frac{1}{\\sigma \\sqrt{ 2 \\pi }}e^{(-\\frac{x^2}{2\\sigma^2})}\\Delta x$\n",
        "\n",
        "Now imagine that we had N particles released at the same time and location. At any time t, the number of particles/drunkards between $x$ and $x + \\Delta x$ is expected to be\n",
        "\n",
        "$n(x,t) = N p(x,t) $\n",
        "\n",
        "$ \\ \\ \\ \\ \\ \\ \\ \\ \\ \\ = \\frac{N}{\\sigma \\sqrt{ 2 \\pi }}e^{(-\\frac{x^2}{2\\sigma^2})}\\Delta x$\n",
        "\n",
        "If we assume a unit mass per particle we can convieniently interchange the total number of particles with the total mass released, $N = m_{total}$. We can also change the number of particles at any location with the mass at any location, $n = m$.\n",
        "\n",
        "$m(x,t) = \\frac{m_{total}}{\\sigma \\sqrt{ 2 \\pi }}e^{(-\\frac{x^2}{2\\sigma^2})}\\Delta x$\n",
        "\n",
        "Let's divide mass by volume ($V= A \\Delta x$) to get a concentration:\n",
        "\n",
        "$c(x,t) = \\frac{M}{\\sigma \\sqrt{ 2 \\pi }}e^{(-\\frac{x^2}{2\\sigma^2})}$\n",
        "\n",
        "where $M = \\frac{m_{total}}{A}$.\n",
        "\n",
        "and $\\sigma = \\sqrt{2Dt}$\n",
        "\n",
        "such that,\n",
        "\n",
        "$c(x,t) = \\frac{M}{\\sqrt{ 4 \\pi D t}}e^{(-\\frac{x^2}{4Dt})}$.\n",
        "\n",
        "where\n",
        "$D = \\frac{\\Delta x^2}{2 \\Delta t}$.\n",
        "\n",
        "This is the solution to the 1-D Diffusion Equation\n",
        "\n",
        "$\\frac{dc}{dt} = D\\frac{d^2 c}{dx^2}$\n",
        "\n",
        "for the case of an instantaneous plane tracer release on an infinte domain. The auxilary conditions that describe this case are:\n",
        "\n",
        "Initial condition\n",
        "\n",
        "$c_0(x) = M \\delta(x)$ at t=0\n",
        "\n",
        "Boundary conditions\n",
        "\n",
        "$\\lim_{x\\to+\\infty} c = \\lim_{x\\to-\\infty} c = 0$"
      ]
    }
  ],
  "metadata": {
    "colab": {
      "provenance": []
    },
    "kernelspec": {
      "display_name": "Python 3",
      "name": "python3"
    },
    "language_info": {
      "name": "python"
    }
  },
  "nbformat": 4,
  "nbformat_minor": 0
}
