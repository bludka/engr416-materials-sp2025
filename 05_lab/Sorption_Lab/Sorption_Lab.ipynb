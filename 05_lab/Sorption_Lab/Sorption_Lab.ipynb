{
  "cells": [
    {
      "cell_type": "markdown",
      "metadata": {
        "id": "MSFkNQYkxQ5N"
      },
      "source": [
        "# Lab Notebook\n",
        "Groups may collaborate and share data sheets (you may download/email/upload), but please do NOT share coding notebooks. "
      ]
    },
    {
      "cell_type": "markdown",
      "metadata": {
        "id": "Md6xn1gnxcxG"
      },
      "source": [
        "# Sorption Lab\n"
      ]
    },
    {
      "cell_type": "markdown",
      "metadata": {
        "id": "RymHsdDJyBGJ"
      },
      "source": [
        "## Purpose\n",
        "Determine the equilibrium sorption isotherm and the isotherm parameters that best describe the adsorption of Rhodamine WT onto activated carbon.\n"
      ]
    },
    {
      "cell_type": "markdown",
      "metadata": {
        "id": "JBs9ke82yMuN"
      },
      "source": [
        "## Day 1: Setting up your reactors"
      ]
    },
    {
      "cell_type": "markdown",
      "metadata": {
        "id": "6HnZOacOb4B_"
      },
      "source": [
        "### Materials\n",
        "*   5 - BOD bottles and caps\n",
        "*   1 - 250 mL graduated cylinder\n",
        "*   volumetric pipettes * ***see pipetting review below***\n",
        "*   rhodamine dye solution ($C_{dye}$ = 100 mg/L)\n",
        "*   granulated activated carbon (GAC)\n",
        "*   weigh boats\n",
        "*   distilled water\n",
        "*   paper towels\n",
        "*   bottle labels or masking tape\n",
        "*   sharpie"
      ]
    },
    {
      "cell_type": "markdown",
      "metadata": {
        "id": "lhqyHdj9clbi"
      },
      "source": [
        "### Procedure\n",
        "Label each reactor with masking tape and sharpie. Include the reactor number and your Team number. Also write \"Non-Hazardous: GAC, RhodamineWT and Water\" on the label.\n",
        "\n",
        "Add about 1 g of gradulated activated carbon (GAC) sorbent to each of your 5 reactors.  It is not important to hit exactly 1.00 g but it is important that you measure the exact mass of the sorbent to the nearest 0.01 g. Record this in your data sheet\n",
        "\n",
        "Use the 250 mL graduated cylinder to carefully add 150 mL of distilled water to each reactor.\n",
        "Add 0 (GAC blank), 5, 10, 25, and 50 mL of dye to each of the 5 reactors, respectively. **Do this by first removing that amount of water before adding the dye.** Record the total volume of solution.\n",
        "\n",
        "Find a safe and out-of-the-way location for your reactors to sit until Lab Day 2.\n"
      ]
    },
    {
      "cell_type": "markdown",
      "metadata": {},
      "source": [
        "#### Pipetting Review\n",
        "A = Air Control (Create or Release Vacuum)\n",
        "\n",
        "E = Eject/ Empty (Expand Bulb First to Release Vacuum using A)\n",
        "\n",
        "S = Suck/ Suction/ Sip (Create Vacuum using A first)\n",
        "\n",
        "Note the difference between **“To-Deliver”** and **“Not-To-Deliver”** pipette types\n",
        "   * To-Deliver: Empty the entire pipette to achieve desired amount\n",
        "\n",
        "   * Not-To-Deliver: Stop emptying at bottom line to achieve desired amount\n",
        "\n",
        "Please try NOT to suck up substances into bulb. Need to set aside bulb for washing if this happens.\n"
      ]
    },
    {
      "cell_type": "markdown",
      "metadata": {
        "id": "_LhHEoageTmk"
      },
      "source": [
        "## Day 2: Calibration Curve and Equilibrium Observations"
      ]
    },
    {
      "cell_type": "markdown",
      "metadata": {
        "id": "2YxytnGagK76"
      },
      "source": [
        "### Calibration Curve\n",
        "\n",
        "We are going to measure our equilibrium concentrations using the *spectrophotometer* and a *calibration curve*. We use the spectrophotometer to measure absorbance of **light** which changes depending on the concentration of the dye in solution. (Note: The absorbance of light is  different from the partitioning absorbance that we learned about this week in class.) We will need to convert the absorbance reading from the spectrophotometer to a dye concentration. In order to do this we will create a calibration curve.\n",
        "\n",
        "**Only one set of calibration measurements per spectrophotometer are needed. Use the SAME spectrophotometer for the entire experiment. Coordinate with the other groups** who are sharing your spectrophotometer to decide how to ***divide up*** the work to create the calibration curve.\n",
        "\n"
      ]
    },
    {
      "cell_type": "markdown",
      "metadata": {
        "id": "szxELlF5jJx-"
      },
      "source": [
        "#### Materials\n",
        "\n",
        "*   rhodamine dye solution ($C_{dye}$ = 100 mg/L)\n",
        "*   volumetric flasks\n",
        "> *   25 mL flask\n",
        "> *   50 mL flask\n",
        "> *   100 mL flask\n",
        "> *   250 mL flask\n",
        "*   volumetric pipettes\n",
        "*   paper towels\n",
        "*   parafilm\n",
        "*   cuvette\n",
        "*   kim wipes\n",
        "*   spectrophotometer set at 540 nm"
      ]
    },
    {
      "cell_type": "markdown",
      "metadata": {
        "id": "isxZaWRlj3qB"
      },
      "source": [
        "#### Procedure\n",
        "\n",
        "Prepare the spectrophotometer. **Coordinate with the other groups** who are sharing your spectrophotometer to ensure the instrument is properly calibrated and **only do this once**. Set the 0 absorbance by placing a cuvette filled with distilled water into the machine and pressing the 0.0 absorbance/100% transmittance button. ONLY DO THIS ONCE PER SPECTROPHOTOMETER!\n",
        "\n",
        "Partially fill each of the 4 volumetric flasks with distilled water. (The amount doesn't have to be exact, this is just to encourage mixing when you pour in the dye solution in the next steps.)\n",
        "\n",
        "Place 4 mL of dye solution into\n",
        "each of the 4 volumetric flasks.\n",
        "\n",
        "Fill each flask with distilled water to the mark (be exact).\n",
        "\n",
        "Cover with parafilm, shake flasks well and let sit for several minutes.\n",
        "\n",
        "Measure and record the absorbance for each concentration standard.\n"
      ]
    },
    {
      "cell_type": "markdown",
      "metadata": {
        "id": "d0j1E1ehV4Dh"
      },
      "source": [
        "#### Load Calibration Data\n",
        "\n",
        "First let's initialize the python tools we need. Run the following code.\n"
      ]
    },
    {
      "cell_type": "code",
      "execution_count": 1,
      "metadata": {
        "id": "JyOv3eDEWMjD"
      },
      "outputs": [],
      "source": [
        "import numpy as np\n",
        "import pandas as pd\n",
        "import matplotlib.pyplot as plt\n",
        "from scipy import stats"
      ]
    },
    {
      "cell_type": "markdown",
      "metadata": {
        "id": "AojVt6CPW-5o"
      },
      "source": [
        "Now let's get the data! Make sure your spreadsheet and notebook are in the same folder. Modify any filenames and Spreadsheet Sheet names as needed."
      ]
    },
    {
      "cell_type": "code",
      "execution_count": null,
      "metadata": {
        "id": "D8ZQQIXgXD1D"
      },
      "outputs": [],
      "source": [
        "#get calibration data\n",
        "# \"open\" the the spreadsheet\n",
        "spreadsheet = 'Sorption_Data_Sheet.xlsx' #modify to match your spreadsheeet filename\n",
        "sheet = \"Calibration\"\n",
        "# read the calibration data into a pandas dataframe\n",
        "cal = pd.read_excel(spreadsheet, sheet_name=sheet)\n",
        "# print('cal_dataframe=',cal)\n",
        "# get individual variables as numpy array\n",
        "# (if you prefer to keep data in a pandas dataframe feel free to delete these lines)\n",
        "vol_total_cal = cal['flask_volume_mL'].values\n",
        "print('vol_total_cal=',vol_total_cal)\n",
        "vol_dye_cal = cal['dye_volume_mL'].values\n",
        "print('vol_dye_cal=',vol_dye_cal)\n",
        "abs_cal = cal['absorbance_A'].values\n",
        "print('abs_cal=',abs_cal)\n",
        "\n",
        "# get concentation of dye stock solution\n",
        "sheet = 'Dye_stock'\n",
        "# read the dye stock concentration into a pandas dataframe\n",
        "dye_stock = pd.read_excel(spreadsheet, sheet_name=sheet)\n",
        "# print('dye_stock_dataframe=',dye_stock)\n",
        "# get dye stock as numpy array\n",
        "# (if you prefer to keep data in a pandas dataframe feel free to delete these lines)\n",
        "c_stock = dye_stock['stock_concentration_mg_per_L'].values\n",
        "print('c_stock=',c_stock)"
      ]
    },
    {
      "cell_type": "markdown",
      "metadata": {
        "id": "QBgrtL68ZQHS"
      },
      "source": [
        "#### Calibration Analysis\n",
        "\n"
      ]
    },
    {
      "cell_type": "markdown",
      "metadata": {
        "id": "MVwKL2KZhkgF"
      },
      "source": [
        "Calculate the concentration in each calibration flask using the variables you just created. (Remember the dillution equation: $C_1 V_1 = C_2 V_2$)"
      ]
    },
    {
      "cell_type": "code",
      "execution_count": null,
      "metadata": {
        "id": "Ti15pHHFXoWL"
      },
      "outputs": [],
      "source": [
        "# Write your code here"
      ]
    },
    {
      "cell_type": "markdown",
      "metadata": {
        "id": "F2SNnEGWcJAP"
      },
      "source": [
        "Plot your calibration curve by modifying the code below. Put the standard concentrations you just calculated on the Y axis and the calibration absorbances on the X-axis.\n"
      ]
    },
    {
      "cell_type": "code",
      "execution_count": null,
      "metadata": {
        "id": "wDg9rRC0dBpf"
      },
      "outputs": [],
      "source": [
        "# Modify this code\n",
        "plt.figure(figsize=(6,4))\n",
        "plt.plot(x,y,'*')\n",
        "plt.xlabel('x [units]')\n",
        "plt.ylabel('y [units]')\n",
        "plt.grid(True)"
      ]
    },
    {
      "cell_type": "markdown",
      "metadata": {
        "id": "tZhzLn6Ide53"
      },
      "source": [
        "Use a linear regression to estimate the slope and intercept of the calibration curve. Modify the code below to do this."
      ]
    },
    {
      "cell_type": "code",
      "execution_count": null,
      "metadata": {
        "id": "nsjXKIydd48Q"
      },
      "outputs": [],
      "source": [
        "# Modify this code\n",
        "slope, intercept, r_value, p_value, std_err = stats.linregress(x, y)\n",
        "y_fit = slope*x + intercept"
      ]
    },
    {
      "cell_type": "markdown",
      "metadata": {
        "id": "Q-L6-RkxeRgi"
      },
      "source": [
        "Plot your calibration curve on top of the calibration data by modifying the code below."
      ]
    },
    {
      "cell_type": "code",
      "execution_count": null,
      "metadata": {
        "id": "rsrbeZUweXvQ"
      },
      "outputs": [],
      "source": [
        "# Modify this code\n",
        "plt.figure(figsize=(6,4))\n",
        "plt.plot(x,y,'*')\n",
        "plt.plot(x,y_fit,color='black')\n",
        "plt.xlabel('x [units]')\n",
        "plt.ylabel('y [units]')\n",
        "plt.legend(['data','fit'])\n",
        "plt.text(xt,yt,'R^2='+str(r_value**2))\n",
        "plt.grid(True)"
      ]
    },
    {
      "cell_type": "markdown",
      "metadata": {
        "id": "SfMX8W8Of-r9"
      },
      "source": [
        "### Equilibrium Observations"
      ]
    },
    {
      "cell_type": "markdown",
      "metadata": {
        "id": "iYpHy72jiDSW"
      },
      "source": [
        "#### Materials\n",
        "\n",
        "*   reactors\n",
        "*   volumetric pipettes\n",
        "*   paper towels\n",
        "*   cuvette\n",
        "*   kim wipes\n",
        "*   spectrophotometer set at 540 nm"
      ]
    },
    {
      "cell_type": "markdown",
      "metadata": {
        "id": "5zLPNdQ9iGzV"
      },
      "source": [
        "#### Procedure\n",
        "\n",
        "Use a ***NEW*** pipette to transfer the supernatant from each reactor to a cuvette and measure the absorbance of the sample. Start with the blank reactor, and then sample the rest of the reactors in order of their dye concentrentation, with the highest concentration reactor last.  Record the equilibrium concentration values in your data sheet."
      ]
    },
    {
      "cell_type": "markdown",
      "metadata": {
        "id": "fM7UmlMFjz6G"
      },
      "source": [
        "#### Load Data\n",
        "\n",
        "Load in your reactor observations from your data sheet. This time, I'll let you write the code yourself. You may use the code from the \"Load Data\" subsection of the Calibration Curve section above for inspiration."
      ]
    },
    {
      "cell_type": "code",
      "execution_count": null,
      "metadata": {
        "id": "JswT9gb3gCas"
      },
      "outputs": [],
      "source": [
        "# Write code to load your reactor observations.\n",
        "# Make sure your code is well commented"
      ]
    },
    {
      "cell_type": "markdown",
      "metadata": {
        "id": "x_5My5RVka3-"
      },
      "source": [
        "#### Analysis\n",
        "\n",
        "Calculate the initial dye concentration, $C_0$, in each reactor.\n"
      ]
    },
    {
      "cell_type": "code",
      "execution_count": null,
      "metadata": {
        "id": "3nxD2o28mHnP"
      },
      "outputs": [],
      "source": [
        "# Write code to calculate C_0\n",
        "# Make sure your code is well commented"
      ]
    },
    {
      "cell_type": "markdown",
      "metadata": {
        "id": "f9Yl4JRWnuqO"
      },
      "source": [
        "Use your data to compute the final dye concentrations in your reactor, $C_e$. **Correct your final absorbance measurements for the GAC blank absorbance.** (The GAC blank absorbance is the absorbance measured from the reactor that had no dye in it. Use this to account for any light absorbance due to the GAC. Hint: Convert all absorbances to concentration before making the adjustment)"
      ]
    },
    {
      "cell_type": "code",
      "execution_count": null,
      "metadata": {
        "id": "VdrrNrr0n2jZ"
      },
      "outputs": [],
      "source": [
        "# Write code to calculate C_e. Correct C_e for the GAC blank absorbance\n",
        "# Make sure your code is well commented"
      ]
    },
    {
      "cell_type": "markdown",
      "metadata": {
        "id": "SYHGpeaemGfo"
      },
      "source": [
        "Calculate $q_e$:\n",
        "\n",
        "Write the equation you are using in LaTeX form here:\n",
        "\n",
        "$Your \\ LaTeX \\ equation$"
      ]
    },
    {
      "cell_type": "code",
      "execution_count": null,
      "metadata": {
        "id": "0-Jmhd7tmfbT"
      },
      "outputs": [],
      "source": [
        "# Write code to calculate q_e\n",
        "# Make sure your code is well commented"
      ]
    },
    {
      "cell_type": "markdown",
      "metadata": {
        "id": "9DJC83RRmpx9"
      },
      "source": [
        "Use your $C_e$ and $q_e$ data to develop and evaluate three sorption isotherm models. **Do NOT include the GAC Blank reactor in your model evaluation.**\n",
        "\n"
      ]
    },
    {
      "cell_type": "markdown",
      "metadata": {
        "id": "5LG8Hhi4pbAv"
      },
      "source": [
        "Write standard equations for each Sorption Isotherm using LaTeX here:\n",
        "\n",
        "Linear:\n",
        "\n",
        "$Linear \\ Equation$\n",
        "\n",
        "Freundlich:\n",
        "\n",
        "$Freundlich \\ Equation$\n",
        "\n",
        "Langmuir\n",
        "\n",
        "$Langmuir \\ Equation$"
      ]
    },
    {
      "cell_type": "markdown",
      "metadata": {
        "id": "JdFvrOZ5pcFl"
      },
      "source": [
        "Now write **linearized form** for each Sorption Isotherm using LaTeX here:\n",
        "\n",
        "Linear:\n",
        "\n",
        "$Linear \\ Equation$ (this one is straight forward)\n",
        "\n",
        "Freundlich:\n",
        "\n",
        "$Freundlich \\ Equation$\n",
        "\n",
        "Langmuir\n",
        "\n",
        "$Langmuir \\ Equation$"
      ]
    },
    {
      "cell_type": "markdown",
      "metadata": {
        "id": "WYRyQAqfonz0"
      },
      "source": [
        "Plot the linearized form of each isotherm. Create a seperate plot for each isotherm.\n",
        "\n"
      ]
    },
    {
      "cell_type": "code",
      "execution_count": null,
      "metadata": {
        "id": "Pm2KbU-8psYo"
      },
      "outputs": [],
      "source": [
        "# Write your code here\n",
        "# Make sure your code is well commented"
      ]
    },
    {
      "cell_type": "markdown",
      "metadata": {
        "id": "2emp1d0fptPt"
      },
      "source": [
        "Perform a linear regression on the linearized form of the models to determine the equilibrium sorption isotherm parameters that best describe the adsorption of Rhodamine onto your sorbent.\n"
      ]
    },
    {
      "cell_type": "code",
      "execution_count": null,
      "metadata": {
        "id": "K1Ms6iXCqVVi"
      },
      "outputs": [],
      "source": [
        "# Write your code here\n",
        "# Make sure your code is well commented"
      ]
    },
    {
      "cell_type": "markdown",
      "metadata": {
        "id": "zKxCYhRDqZz0"
      },
      "source": [
        "Copy the code for the plots you made above and now add on your regression line, $R^2$ value, and a legend."
      ]
    },
    {
      "cell_type": "code",
      "execution_count": null,
      "metadata": {
        "id": "d20LbJrYqs6g"
      },
      "outputs": [],
      "source": [
        "# Write your code here\n",
        "# Make sure your code is well commented"
      ]
    },
    {
      "cell_type": "markdown",
      "metadata": {
        "id": "a14bL1C0qTYY"
      },
      "source": [
        "## Discussion"
      ]
    },
    {
      "cell_type": "markdown",
      "metadata": {
        "id": "l7l2B0c6sli3"
      },
      "source": [
        "Which of the three models best describes the sorption process your observed? Write your answer in this box."
      ]
    },
    {
      "cell_type": "markdown",
      "metadata": {
        "id": "8Fm2L27ph7Yo"
      },
      "source": [
        "Determine the values and units of all the parameters in your model and write your answer here. Describe how you arrived at your answers."
      ]
    },
    {
      "cell_type": "markdown",
      "metadata": {
        "id": "J5hcs1gdrMhS"
      },
      "source": [
        "How well would your chosen model estimate $q_e$ from $C_e$? Write your answer in this box"
      ]
    },
    {
      "cell_type": "markdown",
      "metadata": {
        "id": "D70ouloGvldT"
      },
      "source": [
        "## Turn it in!\n",
        "\n",
        "After you are finished, go to File -> Download -> Download .ipynb. Then upload this .ipynb file to Canvas. Then you are done!"
      ]
    }
  ],
  "metadata": {
    "colab": {
      "provenance": []
    },
    "kernelspec": {
      "display_name": "Python 3",
      "name": "python3"
    },
    "language_info": {
      "codemirror_mode": {
        "name": "ipython",
        "version": 3
      },
      "file_extension": ".py",
      "mimetype": "text/x-python",
      "name": "python",
      "nbconvert_exporter": "python",
      "pygments_lexer": "ipython3",
      "version": "3.11.7"
    }
  },
  "nbformat": 4,
  "nbformat_minor": 0
}
