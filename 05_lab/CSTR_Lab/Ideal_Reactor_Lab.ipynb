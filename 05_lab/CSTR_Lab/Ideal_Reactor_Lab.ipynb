{
  "cells": [
    {
      "cell_type": "markdown",
      "metadata": {
        "id": "wn25ktzdRDCb"
      },
      "source": [
        "## Lab Notebook\n",
        "\n",
        "Groups may collaborate and share data sheets (you may download/email/upload), but please do NOT share coding notebooks. "
      ]
    },
    {
      "cell_type": "markdown",
      "metadata": {
        "id": "pM2pSc8KVWrW"
      },
      "source": [
        "# CSTR Tracer Lab\n",
        "## Continuously Stirred Tank Reactor (CSTR)"
      ]
    },
    {
      "cell_type": "code",
      "execution_count": null,
      "metadata": {
        "colab": {
          "base_uri": "https://localhost:8080/",
          "height": 321
        },
        "id": "vK-rPtpIVcpI",
        "outputId": "adbeb779-b423-4b79-f0c6-2c22d350415c"
      },
      "outputs": [],
      "source": [
        "from IPython.display import YouTubeVideo\n",
        "YouTubeVideo('DFr_tBn7cYs')"
      ]
    },
    {
      "cell_type": "markdown",
      "metadata": {
        "id": "Gsq6locUf6Kf"
      },
      "source": [
        "\n",
        "## Purpose\n",
        "Observe the output function for continuous input and washout experiments; and assess if the system reached steady-state.\n"
      ]
    },
    {
      "cell_type": "markdown",
      "metadata": {
        "id": "PIpbt-JDmiS4"
      },
      "source": [
        "## Equipment\n",
        "*   Pump  \n",
        "*   Tubing\n",
        "*   Rhodamine WT dye   \n",
        "*   Reactor Vessel (CSTR)\n",
        "*   1000 mL beakers\n",
        "*   Stir plate and stir bar\n",
        "*   Spectrophotometer (Set to 540 nm)\n",
        "*   Cuvettes\n",
        "*   Stopwatch (or timer on phone)\n",
        "*   25-mL graduated cylinder\n",
        "*   Pipette and Pipette bulb (all groups can share, so only 1 needed)"
      ]
    },
    {
      "cell_type": "markdown",
      "metadata": {
        "id": "JQ2Sqzb4mlz8"
      },
      "source": [
        "## Safety\n",
        "The primary safety issues in this experiment involve working with glassware and  Rhodamine WT dye. Glassware can break and shatter and is especially problematic if shards enter your eyes. The dye can cause skin irritation or stains if in contact with your clothes and counter-top. Make sure to clean your stations when you are done. Additionally, be aware that spills are common when performing this experiment.\n",
        "\n",
        "**You are REQUIRED to:**\n",
        "\n",
        "* pull long hair back\n",
        "* wear safety goggles\n",
        "* wear gloves\n",
        "* wear long pants\n",
        "* wear long sleeves\n",
        "* wear closed toed shoes"
      ]
    },
    {
      "cell_type": "markdown",
      "metadata": {
        "id": "SC2LT-_EmrV2"
      },
      "source": [
        "## Procedure\n"
      ]
    },
    {
      "cell_type": "markdown",
      "metadata": {
        "id": "lqmeQkbXosG_"
      },
      "source": [
        "### 1.   Setting up spectrophotometer and blank\n",
        "\n",
        "**Only one group per spectrophotometer should do this prior to collecting measurements. Be sure to coordinate with all groups using your spectrophotometer on this step. Use the same spectrophotomer throoughout the experiment**\n",
        "\n",
        "a) The spectrophotometer should already be on but might be asleep. Press a button (other than the on/off) to wake it up. If it is turned off it will take a long time to warm back up, so try to avoid this! Set the sensor to a wavelength of 540 nm. (It is probably already set to this but it is good to check.)\n",
        "\n",
        "b) Fill a cuvette with tap water. Wipe the outside with a kimwipe and place it in the spectrophotometer such that the side with the arrow/v-notch at the top is facing you.\n",
        "\n",
        "c) Set the absorbance to 0.0 by pressing the 0.0 absorbance/100% transmittance button (using the tap water).\n",
        "\n",
        "d) Do NOT touch the spectrophotometer calibration button (or any other button) after this. You want to make sure all of your measurements are collected using the same instrument and instrument calibration. If this is not possible due to an experimental issue, make sure to note this in your report."
      ]
    },
    {
      "cell_type": "markdown",
      "metadata": {
        "id": "7ff7zqXim-m7"
      },
      "source": [
        "### 2.   Dye Stock Solution and Reactor Preparation.\n",
        "\n",
        "a) Useing a pipette, cuvette, and the calibrated spectrophotometer, measure and record the absorbance of the Rhodamine WT dye stock solution (this will be $C_{IN}$ for the continuous input experiment).\n",
        "\n",
        "b) Place the balance next to the sink in such a way that when the CSTR is on the balance and you add water to the CSTR the outflow will drain into the sink.\n",
        "\n",
        "c) Weigh the empty CSTR with the stir bar.\n",
        "\n",
        "d) Keep the CSTR/stir bar on the balance (make sure the balance/CSTR is next to the sink in such a way that the outflow of the CSTR will drain into the sink).\n",
        "\n",
        "e) Fill the CSTR with tap water until it overflows.\n",
        "\n",
        "f) Without moving the balance/CSTR, wait until there is no more outflow. Then, weigh the CSTR/stir bar plus water to determine the volume of your CSTR. Note: you will need to convert mass of water to volume of water using the density.  \n",
        "\n",
        "g) You may remove some water from the CSTR before going back to your corresponding bench area.  \n",
        "\n",
        "h) Back in the bench area, place stir plate on top of the base of the stand. Clamp the tubing (to connect to both the water and dye reservoir outflow) to the stand (place it high enough in order to provide space for the CSTR).\n",
        "\n",
        "i) Place the CSTR/stir bar on top of stir plate, under the reservoir outflow (you may need to put something underneath the stir plate in order to lift it so that the beaker can fit underneath the CSTR outflow). Place a beaker under the CSTR outflow. Turn on the stir plate.\n",
        "\n",
        "j) Your instructor will place the other end of the tubing in the water reservoir. When everyone is ready, the instructor will begin pumping water through the CSTR. Let the pump run for a while until the flow to the CSTR becomes steady/consistent.  \n",
        "\n",
        "k) Measure an outflow volume into a 25-mL graduated cylinder and elapsed time in order to determine the flow rate (measure 3 times and take the average).  \n",
        "\n",
        "l.) Collect a sample from the CSTR effluent (the overflow going into the beaker) into a cuvette. This sample will be fresh water and will be your $C_0$ at $t$=0 sample for the Continuous Input experiment. Before placing a cuvette into the spectrophotometer, wipe the outside with a kimwipe. Then place it in the spectrophotometer such that the side with the arrow/v-notch at the top is facing you. Record your data (time and absorption) in your Spreadsheet on the \"Continuous Input\" Sheet.\n",
        "\n",
        "*NOTE: **Please keep the formatting of your Spreadsheet the same as the Template**, because the code below will expect a particular format. If you **additionally** want to record your data in a different way, or if you want to add unit labels, or if you want to do some preliminary analysis within the spreadsheet, **please create a new sheet for this**.*"
      ]
    },
    {
      "cell_type": "markdown",
      "metadata": {
        "id": "IpiY8RuRnACj"
      },
      "source": [
        "### 3.   Continuous Input\n",
        "\n",
        "a) Your instructor will switch the delivery tubing from the water to the dye reservoir to begin pumping dye into the CSTR. Start your timer for the continuous input experiment is when the dye first enters the reactor. Watch the delivery tube, there will be an air bubble just before the first drop of dye.  \n",
        "\n",
        "b) Collect a sample from the CSTR effluent (the overflow going into the beaker) every minute (one-minute intervals give better results but you will have to be quick and agile!). Before placing a cuvette into the spectrophotometer, wipe the outside with a kimwipe. Then place it in the spectrophotometer such that the side with the arrow/v-notch at the top is facing you. I recommend you use at least two cuvettes to interchange between measurements in order to keep up. Regardless of the time interval, the most important thing is to record the time that the measurement was made. For consistency, use the time that you begin collecting the sample into the cuvette. Record your data (time and absorption) in your Spreadsheet on the \"Continuous Input\" Sheet.\n",
        "\n",
        "NOTE: The CSTR overflow is discharging into a beaker. Switch out the beaker with another one occassionally to make sure it does not overflow. Turn on the tap water when you pour the discharge down the drain, to help dillute the dye more for the wastewater treatment facility downstream.\n",
        "\n",
        "*NOTE: **Please keep the formatting of your Spreadsheet the same as the Template**, because the code below will expect a particular format. If you **additionally** want to record your data in a different way, or if you want to add unit labels, or if you want to do some preliminary analysis within the spreadsheet, **please create a new sheet for this**.*\n",
        "\n",
        "c.) After about 30 minutes your instructor will switch the delivery tubing back over to the water. Continue sampling with one minute intervals. Do not stop sampling, to ensure a smooth transition to the Wash Out experiment."
      ]
    },
    {
      "cell_type": "markdown",
      "metadata": {
        "id": "VGmMjqfwnjOe"
      },
      "source": [
        "### 4.   Washout\n",
        "\n",
        "a) Your instructor will switch the delivery tube back to the water reservoir. Continue sampling at 1 minute intervals throughout this transition. Watch the delivery tube, there will be an air bubble just before the first drop of fresh water. The sample you collect BEFORE you see fresh water entering your reactor will be your last datapoint for the Continuous Input Experiment and it will ALSO be $C_0$ for the Wash Out experiment.\n",
        "\n",
        "b.) The second datapoint for the washout experiment is the sample you collect after the fresh water first starts to enter the reactor.\n",
        "\n",
        "c) Collect a sample every minute for 30 minutes. Record your data (time and absorption) in your Spreadsheet on the \"Washout\" Sheet."
      ]
    },
    {
      "cell_type": "markdown",
      "metadata": {
        "id": "BAYhtG2goI6Y"
      },
      "source": [
        "## Analysis\n"
      ]
    },
    {
      "cell_type": "markdown",
      "metadata": {
        "id": "twz_jKXNrEUV"
      },
      "source": [
        "### Theoretical Derivation\n",
        "\n",
        "1.   Derive a theoretical expression (in symbol form) for the effluent concentration of dye, $C_{eff}$, as a function of $C_{in}$, $C_0$, $Q$, $V$, $t$, and $k$ (as applicable). **Start from the general mass balance equation and state your assumptions.** Do this derivation on paper first and then transcribe it here using $LaTeX$.\n",
        "\n",
        "*Click on this box and show all steps by typing in the left box here using $LaTeX$*\n",
        "\n",
        "*Put dollar signs around your $ LaTeX \\ commands \\$ so that the interpreter knows what you are trying to do*\n",
        "\n",
        "*Here are some potentially helpful $LaTeX$ symbols*\n",
        "\n",
        "*You can write a derivative using the fraction command\n",
        "$\\frac{dx}{dt}$*\n",
        "\n",
        "*You can write an integral this way\n",
        "$\\int_{a}^{b} x \\,dx$*\n",
        "\n",
        "*You can write the exponential this way $e^{x}$*\n",
        "\n",
        "*You can write a natural log this way\n",
        "$\\ln(x)$*"
      ]
    },
    {
      "cell_type": "markdown",
      "metadata": {
        "id": "4-aVpS6csz7g"
      },
      "source": [
        "### Put the Data into an Xarray"
      ]
    },
    {
      "cell_type": "markdown",
      "metadata": {
        "id": "Gf802F-4CVkC"
      },
      "source": [
        "First let's initialize the python tools we need. Run the following code."
      ]
    },
    {
      "cell_type": "code",
      "execution_count": 2,
      "metadata": {
        "id": "3rvWkY_NB7Cg"
      },
      "outputs": [],
      "source": [
        "# download missing packages\n",
        "!pip install \"numpy < 1.25\" #you might not need the exclamation point in front - try with and without\n",
        "!pip install xarray #you might not need the exclamation point in front - try with and without\n",
        "#import packages\n",
        "import numpy as np\n",
        "import pandas as pd\n",
        "import xarray as xr\n",
        "import matplotlib.pyplot as plt"
      ]
    },
    {
      "cell_type": "markdown",
      "metadata": {
        "id": "eY55Sk2QCHzd"
      },
      "source": [
        "Now let's get the data! Go ahead and run the code below to create \"xarrays\" of our data. Modify any filenames and Spreadsheet Sheet names as needed."
      ]
    },
    {
      "cell_type": "code",
      "execution_count": 3,
      "metadata": {
        "colab": {
          "base_uri": "https://localhost:8080/"
        },
        "id": "_UYnJtCXrk8o",
        "outputId": "6f7f9470-e2ad-467b-ebac-12728b20fde1"
      },
      "outputs": [],
      "source": [
        "spreadsheet = 'Ideal_Reactor_Data_Sheet.xlsx'  # Adjust filename if necessary\n",
        "# #get continous input data\n",
        "# \"open\" the continuous input sheet of the spreadsheet\n",
        "sheet = \"Continous_Input\"  # Adjust sheet name if necessary\n",
        "# Read a specific sheet into a DataFrame\n",
        "continput = pd.read_excel(spreadsheet, sheet_name=sheet)\n",
        "# Convert to xarray\n",
        "cAbs = xr.DataArray(continput['Absorbance'], coords=[continput['Time']], dims=['Time'])\n",
        "\n",
        "# #Do the same thing for the washout data\n",
        "sheet = \"Washout\"  # Adjust sheet name if necessary\n",
        "# Read a specific sheet into a DataFrame\n",
        "washout = pd.read_excel(spreadsheet, sheet_name=sheet)\n",
        "# Convert to xarray\n",
        "wAbs = xr.DataArray(washout['Absorbance'], coords=[washout['Time']], dims=['Time'])"
      ]
    },
    {
      "cell_type": "markdown",
      "metadata": {
        "id": "KtK-Vi6y6hbd"
      },
      "source": [
        "Now you have generated two \"xarray\" variables called `cAbs` (for the continuous input case) and `wAbs` (for the washout case). Let's take a look at `cAbs` to explore the characterstics of an xarray. Run the following code."
      ]
    },
    {
      "cell_type": "code",
      "execution_count": null,
      "metadata": {
        "colab": {
          "base_uri": "https://localhost:8080/",
          "height": 226
        },
        "id": "KBE2fs-1xO1Z",
        "outputId": "5b9feb34-2a90-4dfd-b4f2-d751eb7f63d2"
      },
      "outputs": [],
      "source": [
        "cAbs"
      ]
    },
    {
      "cell_type": "markdown",
      "metadata": {
        "id": "eyIGOtA17dBx"
      },
      "source": [
        "The output tells us that Absorbance is a 1-D array. It also tells us that Absorbance is a dependent variable that depends on the coordinate Time."
      ]
    },
    {
      "cell_type": "markdown",
      "metadata": {
        "id": "HmRVCrWm8yE0"
      },
      "source": [
        "Now we assign the appropriate units for `cAbs`"
      ]
    },
    {
      "cell_type": "code",
      "execution_count": 5,
      "metadata": {
        "id": "MbcilHId8tya"
      },
      "outputs": [],
      "source": [
        "# units of absorbance for the continous input case\n",
        "cAbs.attrs[\"units\"] = \"A\""
      ]
    },
    {
      "cell_type": "markdown",
      "metadata": {
        "id": "XVAvSv06DOSB"
      },
      "source": [
        "Let's take a look at `cAbs` again now that we assigned it units."
      ]
    },
    {
      "cell_type": "code",
      "execution_count": null,
      "metadata": {
        "colab": {
          "base_uri": "https://localhost:8080/",
          "height": 243
        },
        "id": "4Z9U8FrWDUEc",
        "outputId": "01f8ec4b-cce3-4abd-fdd4-5e8b36fe2495"
      },
      "outputs": [],
      "source": [
        "cAbs"
      ]
    },
    {
      "cell_type": "markdown",
      "metadata": {
        "id": "2rNhBA-TDagi"
      },
      "source": [
        "We see on the last line of output that it has units 'A' for Absorbance."
      ]
    },
    {
      "cell_type": "markdown",
      "metadata": {
        "id": "jcj2OshJDudw"
      },
      "source": [
        "Now we assign units to the independent variable (time) within that same xarray."
      ]
    },
    {
      "cell_type": "code",
      "execution_count": 7,
      "metadata": {
        "id": "e0bE-rQYDxy2"
      },
      "outputs": [],
      "source": [
        "# units of time for the continous input case\n",
        "cAbs.Time.attrs[\"units\"] = \"seconds\""
      ]
    },
    {
      "cell_type": "markdown",
      "metadata": {
        "id": "lgvhxRzQ7s9-"
      },
      "source": [
        "Now let's take a look at the coordinate Time within that same xarray\n"
      ]
    },
    {
      "cell_type": "code",
      "execution_count": null,
      "metadata": {
        "colab": {
          "base_uri": "https://localhost:8080/",
          "height": 226
        },
        "id": "mDUYVSdZ7nea",
        "outputId": "e31f223b-6d79-4462-fa24-48ad8b3dd3e7"
      },
      "outputs": [],
      "source": [
        "cAbs.Time"
      ]
    },
    {
      "cell_type": "markdown",
      "metadata": {
        "id": "jjlZS5_GEOoC"
      },
      "source": [
        "We now see that Time has units of minutes as assigned."
      ]
    },
    {
      "cell_type": "markdown",
      "metadata": {
        "id": "XOMEBNhg9H0p"
      },
      "source": [
        "Not it is your turn. Assign the appropriate units for our \"washout\" xarray `wAbs`. Hint: Use the same units that were used above for `cAbs`.\n",
        "\n"
      ]
    },
    {
      "cell_type": "code",
      "execution_count": null,
      "metadata": {
        "id": "xZao6uvK9PlS"
      },
      "outputs": [],
      "source": [
        "# units of time for the continous input case\n",
        "wAbs.Time.attrs[\"units\"] = #?\n",
        "wAbs.attrs[\"units\"] = #?"
      ]
    },
    {
      "cell_type": "markdown",
      "metadata": {
        "id": "D5PA9n96FJ6v"
      },
      "source": [
        "### Plot the Data"
      ]
    },
    {
      "cell_type": "markdown",
      "metadata": {
        "id": "Yy6WXpH_vsQi"
      },
      "source": [
        "Now let's plot the data we collected. Note that setting things up in xarray makes plotting really easy!"
      ]
    },
    {
      "cell_type": "code",
      "execution_count": null,
      "metadata": {
        "colab": {
          "base_uri": "https://localhost:8080/",
          "height": 490
        },
        "id": "hDzeE-jduk9d",
        "outputId": "7028d303-388c-4536-a7b5-46a0c0bd70e6"
      },
      "outputs": [],
      "source": [
        "cAbs.plot.scatter()\n",
        "plt.grid(True)\n",
        "plt.title('Effluent Concentration for Continous Input Case')\n",
        "plt.show()"
      ]
    },
    {
      "cell_type": "markdown",
      "metadata": {
        "id": "8VhZjew68gVZ"
      },
      "source": [
        "It even labels our axes for us, using the units for each variable that we already defined."
      ]
    },
    {
      "cell_type": "markdown",
      "metadata": {
        "id": "wKWxOIH8FYQy"
      },
      "source": [
        "I got you started by plotting the continuous input case. Now it is your turn to plot the washout data:"
      ]
    },
    {
      "cell_type": "code",
      "execution_count": null,
      "metadata": {
        "colab": {
          "base_uri": "https://localhost:8080/",
          "height": 490
        },
        "id": "ghfDWLITFjMI",
        "outputId": "ef8c46b3-bc9f-4b27-9955-1ecbbf115379"
      },
      "outputs": [],
      "source": []
    },
    {
      "cell_type": "markdown",
      "metadata": {
        "id": "JJPXlZJ2FN31"
      },
      "source": [
        "### Create Theoretical Data"
      ]
    },
    {
      "cell_type": "markdown",
      "metadata": {
        "id": "QrcEY-mQFv2V"
      },
      "source": [
        "Using the Theoretical Equation you derived above, create theoretical absorbance datasets for both the continuous input and washout case. For your modeling, the tracer concentration can be assumed to equal the absorbance of the dye solution. This assumption works because absorbance is linearly proportional to concentration and we are interested in the change in concentration.\n",
        "\n",
        "Create the theoretical data for each time that you collected real data by using the variables `cAbs.Time` and `wAbs.Time `.\n",
        "\n",
        "Hint: if you need to use the exponential function, you can use `np.exp()` where your argument falls inside the parentheses."
      ]
    },
    {
      "cell_type": "code",
      "execution_count": null,
      "metadata": {
        "id": "pWCJXoxZfxLA"
      },
      "outputs": [],
      "source": [
        "# Theoretical Absorbance Data for Continuous Input Case\n",
        "cAbs_Th = # something that depends on cAbs.Time\n",
        "# Theoretical Absorbance Data for Washout Case\n",
        "wA_Th = # something that depends on wAbs.Time"
      ]
    },
    {
      "cell_type": "markdown",
      "metadata": {
        "id": "W7LBABBcJbUm"
      },
      "source": [
        "Let's look at what you just created. Is it an xarray?"
      ]
    },
    {
      "cell_type": "code",
      "execution_count": null,
      "metadata": {
        "colab": {
          "base_uri": "https://localhost:8080/",
          "height": 226
        },
        "id": "gFE6x9mVJerR",
        "outputId": "566fd572-f7d7-4629-c48d-67aaa18baeec"
      },
      "outputs": [],
      "source": [
        "cAbs_Th\n",
        "wAbs_Th"
      ]
    },
    {
      "cell_type": "markdown",
      "metadata": {
        "id": "Jli5c7k8-uzc"
      },
      "source": [
        "Make sure the Absorbance variable is named correctly by running the following code"
      ]
    },
    {
      "cell_type": "code",
      "execution_count": null,
      "metadata": {
        "id": "gKEnsMvF-28V"
      },
      "outputs": [],
      "source": [
        "cAbs_Th.name = 'Absorbance'\n",
        "wAbs_Th.name = 'Absorbance'"
      ]
    },
    {
      "cell_type": "markdown",
      "metadata": {
        "id": "OoAwhtlhNxpf"
      },
      "source": [
        "Assign the appropriate coordinates and coordinate units to theoretical absorbance xarrays for both cases (continuous input and washout)"
      ]
    },
    {
      "cell_type": "code",
      "execution_count": null,
      "metadata": {
        "colab": {
          "base_uri": "https://localhost:8080/",
          "height": 487
        },
        "id": "-VBp2PmJN7Ut",
        "outputId": "3289da49-bb76-470f-f338-310a40d254a2"
      },
      "outputs": [],
      "source": []
    },
    {
      "cell_type": "markdown",
      "metadata": {
        "id": "Ai5_ny7aQoNc"
      },
      "source": [
        "### Plot Observed against Theoretical"
      ]
    },
    {
      "cell_type": "markdown",
      "metadata": {
        "id": "fpPdEdf9Kc4Y"
      },
      "source": [
        "Plot your theoretical data against your real data. Make two plots with appropriate titles (Continous Input and Washout.) Plot the real data as a \"scatter\" plot (similar to how it was done above) and plot the theoretical data as a \"line\" plot. (You can guess how to modify the code from above to do this. Give your plots a legend using something like `plt.legend(['Observed','Theoretical'])`. Make sure your legend corresponds to the appropriate curves."
      ]
    },
    {
      "cell_type": "code",
      "execution_count": null,
      "metadata": {
        "colab": {
          "base_uri": "https://localhost:8080/",
          "height": 490
        },
        "id": "NTiMkO9y4yrM",
        "outputId": "3fee0e91-0e47-40fd-cdec-8b30caafc551"
      },
      "outputs": [],
      "source": []
    },
    {
      "cell_type": "markdown",
      "metadata": {
        "id": "1fuDHLrPQhCS"
      },
      "source": [
        "## Reflection"
      ]
    },
    {
      "cell_type": "markdown",
      "metadata": {
        "id": "32gUTqXZQOrK"
      },
      "source": [
        "Do your observed and theoretical datasets look similar? Is this what you expect?\n",
        "\n",
        " *Please write your answer here in this box.*"
      ]
    },
    {
      "cell_type": "markdown",
      "metadata": {
        "id": "iHL6Opf5QY6_"
      },
      "source": [
        "For each experiment (continuous input and washout), did the dye concentration reach\n",
        "steady-state in the CSTR? Justify your answer.\n",
        "\n",
        " *Please write your answer here in this box.*"
      ]
    },
    {
      "cell_type": "markdown",
      "metadata": {
        "id": "XgdKDj_KQ6sm"
      },
      "source": [
        "# Turn it in!\n",
        "After you are finished, go to File -> Download. Then upload this .ipynb file to Canvas. Then you are done!"
      ]
    }
  ],
  "metadata": {
    "colab": {
      "provenance": []
    },
    "kernelspec": {
      "display_name": "Python 3",
      "name": "python3"
    },
    "language_info": {
      "codemirror_mode": {
        "name": "ipython",
        "version": 3
      },
      "file_extension": ".py",
      "mimetype": "text/x-python",
      "name": "python",
      "nbconvert_exporter": "python",
      "pygments_lexer": "ipython3",
      "version": "3.11.7"
    }
  },
  "nbformat": 4,
  "nbformat_minor": 0
}
